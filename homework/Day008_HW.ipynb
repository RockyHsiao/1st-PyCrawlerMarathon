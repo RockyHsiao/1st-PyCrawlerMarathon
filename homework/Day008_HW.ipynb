{
 "cells": [
  {
   "cell_type": "markdown",
   "metadata": {},
   "source": [
    "# 靜態網頁的資料爬蟲策略\n",
    "\n",
    "\n",
    "* 了解靜態網頁的資料爬蟲策略\n",
    "* 認識適用於靜態網頁爬蟲的相關套件工具：Request\n",
    "* 認識適用於靜態網頁爬蟲的相關套件工具：BeatifulSoup"
   ]
  },
  {
   "cell_type": "markdown",
   "metadata": {},
   "source": [
    "## 作業目標\n",
    "\n",
    "利用 Request + BeatifulSoup 爬取下列兩個網站內容並解析：\n",
    "\n",
    "1. Dcared 網址： https://www.dcard.tw/f\n",
    "2. 知乎： https://www.zhihu.com/explore\n",
    "\n",
    "並且回答下面問題：\n",
    "\n",
    "1. Request 取回之後該怎麼取出資料，資料型態是什麼？\n",
    "2. 為什麼要使用 BeatifulSoup 處理？處理後的型態是什麼？\n",
    "3. 觀察一下知乎回來的資料好像有點怪怪的，該怎麼解決？"
   ]
  },
  {
   "cell_type": "markdown",
   "metadata": {},
   "source": [
    "### 1. Dcard 網址： https://www.dcard.tw/f"
   ]
  },
  {
   "cell_type": "code",
   "execution_count": 6,
   "metadata": {},
   "outputs": [
    {
     "name": "stdout",
     "output_type": "stream",
     "text": "Request 取回之後該怎麼取出資料，資料型態是什麼？ => <class 'str'>\n"
    }
   ],
   "source": [
    "import requests\n",
    "from bs4 import BeautifulSoup\n",
    "\n",
    "url = 'https://www.dcard.tw/f'\n",
    "r = requests.get(url)\n",
    "r.encoding = 'utf-8'\n",
    "\n",
    "print('Request 取回之後該怎麼取出資料，資料型態是什麼？ =>',type(r.text))\n"
   ]
  },
  {
   "cell_type": "code",
   "execution_count": 12,
   "metadata": {},
   "outputs": [
    {
     "name": "stdout",
     "output_type": "stream",
     "text": "為什麼要使用 BeatifulSoup 處理？處理後的型態是什麼？ => 因為BeatifulSoup 可用來解析資料，處理後的型態為 <class 'bs4.BeautifulSoup'>\n"
    }
   ],
   "source": [
    "soup = BeautifulSoup(r.text, 'html.parser')\n",
    "print('為什麼要使用 BeatifulSoup 處理？處理後的型態是什麼？ => 因為BeatifulSoup 可用來解析資料，處理後的型態為',type(soup))"
   ]
  },
  {
   "cell_type": "markdown",
   "metadata": {},
   "source": [
    "### 2. 知乎： https://www.zhihu.com/explore"
   ]
  },
  {
   "cell_type": "markdown",
   "metadata": {},
   "source": [
    "### 3. 觀察一下知乎回來的資料好像有點怪怪的，該怎麼解決？"
   ]
  },
  {
   "cell_type": "code",
   "execution_count": 24,
   "metadata": {},
   "outputs": [
    {
     "name": "stdout",
     "output_type": "stream",
     "text": "810da93dadaa2353111_hd.jpg\"},{\"avatarUrl\":\"https:\\u002F\\u002Fpic4.zhimg.com\\u002F50\\u002Fv2-fe5d7a710873eec047bd35fbdb6155d0_hd.jpg\"},{\"avatarUrl\":\"https:\\u002F\\u002Fpic3.zhimg.com\\u002F50\\u002F5210aa5184122dc9a2830a18231a3e91_hd.jpg\"},{\"avatarUrl\":\"https:\\u002F\\u002Fpic4.zhimg.com\\u002F50\\u002Fv2-2aebc6f3b7340caf05d6c5d4252b5429_hd.jpg\"}],\"questions\":[{\"followerCount\":17,\"title\":\"如何评价 NS 的《新超级马里奥兄弟 U 豪华版》？\",\"url\":\"https:\\u002F\\u002Fwww.zhihu.com\\u002Fquestion\\u002F327268507\",\"type\":\"question\",\"id\":327268507,\"answerCount\":7},{\"followerCount\":114,\"title\":\"国行 Switch 是否值得购买？\",\"url\":\"https:\\u002F\\u002Fwww.zhihu.com\\u002Fquestion\\u002F359174054\",\"type\":\"question\",\"id\":359174054,\"answerCount\":40},{\"followerCount\":2966,\"title\":\"如何评价《超级马力欧：奥德赛》？\",\"url\":\"https:\\u002F\\u002Fwww.zhihu.com\\u002Fquestion\\u002F67174454\",\"type\":\"question\",\"id\":67174454,\"answerCount\":381}],\"logo\":\"https:\\u002F\\u002Fpic4.zhimg.com\\u002F50\\u002Fv2-8dd036d9a0b697132549cdcc800683fe_hd.jpg\",\"urlToken\":\"switchchina\"},\"guidaojiaotong\":{\"startAt\":1575597600,\"name\":\"你了解轨道交通吗？\",\"title\":\"你了解轨道交通吗？\",\"color\":\"#717c4c\",\"banner\":\"https:\\u002F\\u002Fpic3.zhimg.com\\u002F50\\u002Fv2-53bf317fa7a06a55dcc9e810db1a2985_hd.jpg\",\"tinyBanner\":\"\",\"endAt\":1576245600,\"url\":\"\\u002Froundtables\\u002Fexplore\\u002Fcards\\u002Froundtable\\u002Fguidaojiaotong\",\"followersCount\":217,\"intro\":\"城市里的我们乘地铁上班，我国的高铁网又足够我们去想去的远方。那么轨道交通真实的运营状态是怎样的？轨道交通有什么历史？轨道交通有什么有趣的点？参与圆桌的从业者、爱好者会帮助你解答任何奇怪、有趣的小疑问。\",\"isFollowing\":false,\"guests\":[{\"avatarUrl\":\"https:\\u002F\\u002Fpic2.zhimg.com\\u002F50\\u002Fv2-95a51b96c2d5f6de31d778f3b3dacda8_hd.jpg\"},{\"avatarUrl\":\"https:\\u002F\\u002Fpic4.zhimg.com\\u002F50\\u002Fv2-94f6b335c2a7a16be1dd2c2dd747e44e_hd.jpg\"},{\"avatarUrl\":\"https:\\u002F\\u002Fpic2.zhimg.com\\u002F50\\u002Fv2-f869be8053517b01809e5127e15e5cb4_hd.jpg\"},{\"avatarUrl\":\"https:\\u002F\\u002Fpic4.zhimg.com\\u002F50\\u002Fe2da5008bd5152412a63cd7d1ff3cae1_hd.jpg\"},{\"avatarUrl\":\"https:\\u002F\\u002Fpic2.zhimg.com\\u002F50\\u002Fv2-38331ca310c427e644a4d9813583b4f5_hd.jpg\"}],\"questions\":[{\"followerCount\":51,\"title\":\"轨道交通有什么有意思的纪念品?\",\"url\":\"https:\\u002F\\u002Fwww.zhihu.com\\u002Fquestion\\u002F350918635\",\"type\":\"question\",\"id\":350918635,\"answerCount\":20},{\"followerCount\":70974,\"title\":\"外行对你熟知的领域有哪些误解？\",\"url\":\"https:\\u002F\\u002Fwww.zhihu.com\\u002Fquestion\\u002F20167901\",\"type\":\"question\",\"id\":20167901,\"answerCount\":7891},{\"followerCount\":65,\"title\":\"地铁如何实现盈利?\",\"url\":\"https:\\u002F\\u002Fwww.zhihu.com\\u002Fquestion\\u002F23462726\",\"type\":\"question\",\"id\":23462726,\"answerCount\":11}],\"logo\":\"https:\\u002F\\u002Fpic4.zhimg.com\\u002F50\\u002Fv2-351cdf169ed1cb8d2f83e2d84eb95f00_hd.jpg\",\"urlToken\":\"guidaojiaotong\"}},\"order\":[\"dizhixue\",\"dainikanshijietongshu\",\"switchchina\",\"guidaojiaotong\"]},\"collections\":{\"20158534\":{\"favitems\":[{\"content\":{\"isCollapsed\":false,\"author\":{\"avatarUrlTemplate\":\"https:\\u002F\\u002Fpic3.zhimg.com\\u002F4668004a6843c7a8ad54814a8ba49991_{size}.jpg\",\"type\":\"people\",\"name\":\"pezy\",\"url\":\"http:\\u002F\\u002Fwww.zhihu.com\\u002Fapi\\u002Fv4\\u002Fpeople\\u002F3d64d66dd23d43365c280aba98a1dd3f\",\"gender\":1,\"userType\":\"people\",\"urlToken\":\"pezy\",\"isAdvertiser\":false,\"avatarUrl\":\"https:\\u002F\\u002Fpic3.zhimg.com\\u002F4668004a6843c7a8ad54814a8ba49991_is.jpg\",\"isOrg\":false,\"headline\":\"人生没有意义, 但很有意思.\",\"badge\":[],\"id\":\"3d64d66dd23d43365c280aba98a1dd3f\"},\"url\":\"http:\\u002F\\u002Fwww.zhihu.com\\u002Fapi\\u002Fv4\\u002Fanswers\\u002F30579415\",\"excerpt\":\"用 SVN 即可.举例说明:\\n譬如这个项目: \\u003Ca href=\\\"https:\\u002F\\u002Flink.zhihu.com\\u002F?target=https%3A\\u002F\\u002Fgithub.com\\u002FMooophy\\u002FCpp-Primer\\\" class=\\\" wrap external\\\" target=\\\"_blank\\\" rel=\\\"nofollow noreferrer\\\"\\u003EMooophy\\u002FCpp-Primer · GitHub\\u003C\\u002Fa\\u003E, 我只想看 ch03 文件夹的代码怎么办?\\n先打开 ch03, 其 URL 为: \\\"https: \\u002F\\u002Fgithub. com\\u002FMooophy\\u002FCpp-Primer\\u003Cb\\u003E\\u002Ftree\\u002Fmaster\\u003C\\u002Fb\\u003E\\u002Fch03\\\"(这里添加空格, 为了防止知乎智能识别)将 \\u003Cb\\u003E\\u002Ftree\\u002Fmaster\\u002F \\u003C\\u002Fb\\u003E换成 \\u003Cb\\u003E…\\u003C\\u002Fb\\u003E\",\"question\":{\"questionType\":\"normal\",\"created\":1410764331,\"url\":\"http:\\u002F\\u002Fwww.zhihu.com\\u002Fapi\\u002Fv4\\u002Fquestions\\u002F25369412\",\"title\":\"如何从 GitHub 上下载单个文件夹？\",\"type\":\"question\",\"id\":25369412,\"updatedTime\":1515252781},\"updatedTime\":1488274142,\"thumbnail\":\"\",\"commentCount\":29,\"extras\":\"\",\"answerType\":\"answer\",\"createdTime\":1410790613,\"isCopyable\":false,\"type\":\"answer\",\"id\":30579415,\"voteupCount\":135}},{\"content\":{\"updated\":1530070694,\"created\":1530070694,\"url\":\"http:\\u002F\\u002Fzhuanlan.zhihu.com\\u002Fp\\u002F38550884\",\"commentPermission\":\"all\",\"author\":{\"avatarUrlTemplate\":\"https:\\u002F\\u002Fpic4.zhimg.com\\u002Fda8e974dc_{size}.jpg\",\"type\":\"people\",\"name\":\"知乎用户\",\"url\":\"http:\\u002F\\u002Fwww.zhihu.com\\u002Fapi\\u002Fv4\\u002Fpeople\\u002F0\",\"gender\":1,\"userType\":\"people\",\"urlToken\":\"\",\"isAdvertiser\":false,\"avatarUrl\":\"https:\\u002F\\u002Fpic4.zhimg.com\\u002Fda8e974dc_is.jpg\",\"isOrg\":false,\"headline\":\"\",\"badge\":[],\"id\":\"3c1f72bf47b4731bd62af6f935b981d1\"},\"excerpt\":\"本文节选自\\u003Cb\\u003E洪流学堂\\u003C\\u002Fb\\u003E公众号专栏《郑洪智的Unity2018课》，未经允许不可转载。 \\u003Cb\\u003E洪流学堂\\u003C\\u002Fb\\u003E公众号回复光照探头，获取本文对应的视频实战教程。 洪流学堂，让你快人几步。你好，我是郑洪智。Unity的预计算实时GI或者烘焙照明只对静态的物体起作用，对于可移动的物…\",\"commentCount\":1,\"imageUrl\":\"https:\\u002F\\u002Fpic4.zhimg.com\\u002Fv2-dcf7658cc7712047e5f7d954cb87327e_r.jpg\",\"title\":\"Unity中Light Probe详解\",\"excerptTitle\":\"\",\"type\":\"article\",\"id\":38550884,\"voteupCount\":23}}],\"title\":\"什么都知道一点\",\"url\":\"http:\\u002F\\u002Fwww.zhihu.com\\u002Fapi\\u002Fv4\\u002Fcollections\\u002F20158534\",\"totalCount\":1244,\"creator\":{\"avatarUrlTemplate\":\"https:\\u002F\\u002Fpic4.zhimg.com\\u002Fda8e974dc_{size}.jpg\",\"type\":\"people\",\"name\":\"知乎用户\",\"url\":\"http:\\u002F\\u002Fwww.zhihu.com\\u002Fapi\\u002Fv4\\u002Fpeople\\u002F0\",\"gender\":1,\"userType\":\"people\",\"urlToken\":\"\",\"isAdvertiser\":false,\"avatarUrl\":\"https:\\u002F\\u002Fpic4.zhimg.com\\u002Fda8e974dc_is.jpg\",\"isOrg\":false,\"headline\":\"\",\"badge\":[],\"id\":\"20cec5742ffc63836d7a5cf7263a9c92\"},\"isFollowing\":false,\"followerCount\":10865,\"isPublic\":true,\"type\":\"collection\",\"id\":20158534},\"29711207\":{\"favitems\":[{\"content\":{\"isCollapsed\":false,\"author\":{\"avatarUrlTemplate\":\"https:\\u002F\\u002Fpic3.zhimg.com\\u002Fv2-d6c27f868271c9ac2510ed6106543270_{size}.jpg\",\"type\":\"people\",\"name\":\"韓泳思\",\"url\":\"http:\\u002F\\u002Fwww.zhihu.com\\u002Fapi\\u002Fv4\\u002Fpeople\\u002F31e17aa7df602ddd129f8ac9473ff403\",\"gender\":1,\"userType\":\"people\",\"urlToken\":\"hei-li-shi\",\"isAdvertiser\":false,\"avatarUrl\":\"https:\\u002F\\u002Fpic3.zhimg.com\\u002Fv2-d6c27f868271c9ac2510ed6106543270_is.jpg\",\"isOrg\":false,\"headline\":\"\",\"badge\":[],\"id\":\"31e17aa7df602ddd129f8ac9473ff403\"},\"url\":\"http:\\u002F\\u002Fwww.zhihu.com\\u002Fapi\\u002Fv4\\u002Fanswers\\u002F922833684\",\"excerpt\":\"大陸不是「把『強』改成『强』」，而是從這二者以及「彊」當中挑了「强」作為正體。 至於為什麼《第一批異體字表》這麼決定，我猜可能只是承認了當時印刷字體的實際用例情況（誠然《一異表》在許多正字的選定上並不客觀描述當時的語文事實或者遵循傳統，比…\",\"question\":{\"questionType\":\"normal\",\"created\":1408432283,\"url\":\"http:\\u002F\\u002Fwww.zhihu.com\\u002Fapi\\u002Fv4\\u002Fquestions\\u002F24908182\",\"title\":\"为什么大陆把「強」改成「强」？\",\"type\":\"question\",\"id\":24908182,\"updatedTime\":1514247150},\"updatedTime\":1575701243,\"thumbnail\":\"https:\\u002F\\u002Fpic2.zhimg.com\\u002Fv2-6ca946d1b5a6ca4e2ac488882bbb90a2_200x112.jpg\",\"commentCount\":52,\"extras\":\"\",\"answerType\":\"answer\",\"createdTime\":1575475757,\"isCopyable\":true,\"type\":\"answer\",\"id\":922833684,\"voteupCount\":132}},{\"content\":{\"isCollapsed\":false,\"author\":{\"avatarUrlTemplate\":\"https:\\u002F\\u002Fpic2.zhimg.com\\u002Fv2-3f293b78aabd2c3f6a72f9f2038720a6_{size}.jpg\",\"type\":\"people\",\"name\":\"椭圆小飞机\",\"url\":\"http:\\u002F\\u002Fwww.zhihu.com\\u002Fapi\\u002Fv4\\u002Fpeople\\u002Fd92e7e902d148edc7bc0bba7df2bb598\",\"userType\":\"people\",\"urlToken\":\"tuo-yuan-xiao-fei-ji\",\"isAdvertiser\":false,\"avatarUrl\":\"https:\\u002F\\u002Fpic2.zhimg.com\\u002Fv2-3f293b78aabd2c3f6a72f9f2038720a6_is.jpg\",\"isOrg\":false,\"headline\":\"\",\"badge\":[],\"id\":\"d92e7e902d148edc7bc0bba7df2bb598\"},\"url\":\"http:\\u002F\\u002Fwww.zhihu.com\\u002Fapi\\u002Fv4\\u002Fanswers\\u002F922110089\",\"excerpt\":\"央视能站出来直指问题核心：节目组救援安全措施不当。让我愿意叫他一声央视爸爸。哪个行业没有累倒的呢？我们师口动不动就被学生捅死的还一堆呢～我们也平时开玩笑说自己高危行业。但是心里清楚，消防员是高危，研究核能是高危，装空调是高危，挖煤是高危……\",\"question\":{\"questionType\":\"normal\",\"created\":1575162254,\"url\":\"http:\\u002F\\u002Fwww.zhihu.com\\u002Fapi\\u002Fv4\\u002Fquestions\\u002F358677229\",\"title\":\"如何看待央视报道高以翔先生去世？\",\"type\":\"question\",\"id\":358677229,\"updatedTime\":1575162254},\"updatedTime\":1575441760,\"thumbnail\":\"\",\"commentCount\":64,\"extras\":\"\",\"answerType\":\"answer\",\"createdTime\":1575441760,\"isCopyable\":true,\"type\":\"answer\",\"id\":922110089,\"voteupCount\":5916}}],\"title\":\"比较有想法的回答\",\"url\":\"http:\\u002F\\u002Fwww.zhihu.com\\u002Fapi\\u002Fv4\\u002Fcollections\\u002F29711207\",\"totalCount\":4177,\"creator\":{\"avatarUrlTemplate\":\"https:\\u002F\\u002Fpic2.zhimg.com\\u002Ffdafc0d41_{size}.jpg\",\"type\":\"people\",\"name\":\"猫灵\",\"url\":\"http:\\u002F\\u002Fwww.zhihu.com\\u002Fapi\\u002Fv4\\u002Fpeople\\u002F8cb80b9b2067c27bb551dac1f1977f66\",\"gender\":1,\"userType\":\"people\",\"urlToken\":\"mao-ling-44\",\"isAdvertiser\":false,\"avatarUrl\":\"https:\\u002F\\u002Fpic2.zhimg.com\\u002Ffdafc0d41_is.jpg\",\"isOrg\":false,\"headline\":\"如同猫一样好奇\",\"badge\":[],\"id\":\"8cb80b9b2067c27bb551dac1f1977f66\"},\"isFollowing\":false,\"followerCount\":356,\"isPublic\":true,\"type\":\"collection\",\"id\":29711207},\"73136142\":{\"favitems\":[{\"content\":{\"updated\":1575264803,\"created\":1575264803,\"url\":\"http:\\u002F\\u002Fzhuanlan.zhihu.com\\u002Fp\\u002F94697946\",\"commentPermission\":\"all\",\"author\":{\"avatarUrlTemplate\":\"https:\\u002F\\u002Fpic3.zhimg.com\\u002Fv2-18c1b39a76779efa770b160f677ff6db_{size}.jpg\",\"type\":\"people\",\"name\":\"备胎说车\",\"url\":\"http:\\u002F\\u002Fwww.zhihu.com\\u002Fapi\\u002Fv4\\u002Fpeople\\u002F56ce57419343c4622f0ca2cc68bfbab1\",\"userType\":\"people\",\"urlToken\":\"bei-tai-shuo-che\",\"isAdvertiser\":false,\"avatarUrl\":\"https:\\u002F\\u002Fpic3.zhimg.com\\u002Fv2-18c1b39a76779efa770b160f677ff6db_is.jpg\",\"isOrg\":false,\"headline\":\"每天60秒，轻松懂汽车，微信公众号：备胎说车\",\"badge\":[],\"id\":\"56ce57419343c4622f0ca2cc68bfbab1\"},\"excerpt\":\"F1的前任掌门人伯尼说过一句话，F1并不是体育比赛，而是商业活动，这其实很好解释了今天的话题。之所以现在还没有国内的车企参加F1，并不是因为钱不够，也不是因为不想去，主要是因为现在还没到时候。\\u003Cb\\u003E虽然F1开销大，但对厂家来说问题不大\\u003C\\u002Fb\\u003E参加F1的厂家：奔驰…\",\"commentCount\":40,\"imageUrl\":\"https:\\u002F\\u002Fpic1.zhimg.com\\u002Fv2-59e526fba453497e10f60f18ec3679b5_r.jpg\",\"title\":\"中国车企为什么不参加F1\",\"excerptTitle\":\"\",\"type\":\"article\",\"id\":94697946,\"voteupCount\":225}},{\"content\":{\"isCollapsed\":false,\"author\":{\"avatarUrlTemplate\":\"https:\\u002F\\u002Fpic4.zhimg.com\\u002Fv2-4671e73b53faa8bcea7d2bb0d12e685c_{size}.jpg\",\"type\":\"people\",\"name\":\"宝珠道人\",\"url\":\"http:\\u002F\\u002Fwww.zhihu.com\\u002Fapi\\u002Fv4\\u002Fpeople\\u002F84cc1b94de2e930e82beba03bf0ad23c\",\"gender\":1,\"userType\":\"people\",\"urlToken\":\"cliff-92-84\",\"isAdvertiser\":false,\"avatarUrl\":\"https:\\u002F\\u002Fpic4.zhimg.com\\u002Fv2-4671e73b53faa8bcea7d2bb0d12e685c_is.jpg\",\"isOrg\":false,\"headline\":\"混迹在 中关村\\u002F后厂村\\u002F魏公村，向往爱与自由\",\"badge\":[{\"type\":\"identity\",\"description\":\"中国科学院大学 研究员\"}],\"id\":\"84cc1b94de2e930e82beba03bf0ad23c\"},\"url\":\"http:\\u002F\\u002Fwww.zhihu.com\\u002Fapi\\u002Fv4\\u002Fanswers\\u002F922059898\",\"excerpt\":\"表情怎么样，这得看当时疼痛的程度了，\\u003Cb\\u003E在这张图中，级别越高，感受到的疼痛感就越大\\u003C\\u002Fb\\u003E。 我就不信你去抽血的时候也会把嘴咧开，如果咧开，那也一定是看上哪家的护士小姐姐了。所以，疼痛的程度不一样，面部表情也不一样。最近加拿大和德国的研究者募集了34名…\",\"question\":{\"questionType\":\"normal\",\"created\":1574403088,\"url\":\"http:\\u002F\\u002Fwww.zhihu.com\\u002Fapi\\u002Fv4\\u002Fquestions\\u002F357176784\",\"title\":\"为什么感受到疼痛时，嘴巴会横向咧开？\",\"type\":\"question\",\"id\":357176784,\"updatedTime\":1574403088},\"updatedTime\":1575542727,\"thumbnail\":\"https:\\u002F\\u002Fpic1.zhimg.com\\u002Fv2-0cbe26c791bf365af6472c2b5fd7f008_200x112.jpg\",\"commentCount\":61,\"extras\":\"\",\"answerType\":\"answer\",\"createdTime\":1575439738,\"isCopyable\":true,\"type\":\"answer\",\"id\":922059898,\"voteupCount\":367}}],\"title\":\"！！！！！！。！\",\"url\":\"http:\\u002F\\u002Fwww.zhihu.com\\u002Fapi\\u002Fv4\\u002Fcollections\\u002F73136142\",\"totalCount\":399,\"creator\":{\"avatarUrlTemplate\":\"https:\\u002F\\u002Fpic3.zhimg.com\\u002F15eb019febc48eab3b8feda353f06076_{size}.jpg\",\"type\":\"people\",\"name\":\"许池\",\"url\":\"http:\\u002F\\u002Fwww.zhihu.com\\u002Fapi\\u002Fv4\\u002Fpeople\\u002F5a4aa27c26fa29fc72ce0ec54be6ac6a\",\"gender\":1,\"userType\":\"people\",\"urlToken\":\"xu-chi-98-47\",\"isAdvertiser\":false,\"avatarUrl\":\"https:\\u002F\\u002Fpic3.zhimg.com\\u002F15eb019febc48eab3b8feda353f06076_is.jpg\",\"isOrg\":false,\"headline\":\"学生\",\"badge\":[],\"id\":\"5a4aa27c26fa29fc72ce0ec54be6ac6a\"},\"isFollowing\":false,\"followerCount\":130,\"isPublic\":true,\"type\":\"collection\",\"id\":73136142},\"204906952\":{\"favitems\":[{\"content\":{\"isCollapsed\":false,\"author\":{\"avatarUrlTemplate\":\"https:\\u002F\\u002Fpic4.zhimg.com\\u002Fda8e974dc_{size}.jpg\",\"type\":\"people\",\"name\":\"杨玉杰\",\"url\":\"http:\\u002F\\u002Fwww.zhihu.com\\u002Fapi\\u002Fv4\\u002Fpeople\\u002Ff13d9d1408bb66696ca2bbecc750cbec\",\"userType\":\"people\",\"urlToken\":\"yang-yu-jie-1-52\",\"isAdvertiser\":false,\"avatarUrl\":\"https:\\u002F\\u002Fpic4.zhimg.com\\u002Fda8e974dc_is.jpg\",\"isOrg\":false,\"headline\":\"\",\"badge\":[],\"id\":\"f13d9d1408bb66696ca2bbecc750cbec\"},\"url\":\"http:\\u002F\\u002Fwww.zhihu.com\\u002Fapi\\u002Fv4\\u002Fanswers\\u002F922850232\",\"excerpt\":\"媳妇怼了领导，被辞职了（真是头猪，我之前都说了别辞职别辞职等着他开除拿赔偿，被忽悠忽悠就辞职了），八月份上了六天班，然后这六天的钱没给。财务各种理由什么，神马因为你违反公司规定之类的反正就是不给，我家那彪娘们气的都准备去那公司耍泼妇了，被…\",\"question\":{\"questionType\":\"normal\",\"created\":1513154623,\"url\":\"http:\\u002F\\u002Fwww.zhihu.com\\u002Fapi\\u002Fv4\\u002Fquestions\\u002F264021021\",\"title\":\"有哪些你以为「举报了没用」但实际上有用的事情？\",\"type\":\"question\",\"id\":264021021,\"updatedTime\":1521513881},\"updatedTime\":1575476801,\"thumbnail\":\"\",\"commentCount\":31,\"extras\":\"\",\"answerType\":\"answer\",\"createdTime\":1575476801,\"isCopyable\":true,\"type\":\"answer\",\"id\":922850232,\"voteupCount\":842}},{\"content\":{\"isCollapsed\":false,\"author\":{\"avatarUrlTemplate\":\"https:\\u002F\\u002Fpic4.zhimg.com\\u002Fda8e974dc_{size}.jpg\",\"type\":\"people\",\"name\":\"希希垚\",\"url\":\"http:\\u002F\\u002Fwww.zhihu.com\\u002Fapi\\u002Fv4\\u002Fpeople\\u002F35a64d5d079af649d406dd6a3c8e917b\",\"userType\":\"people\",\"urlToken\":\"xi-xi-yao-66\",\"isAdvertiser\":false,\"avatarUrl\":\"https:\\u002F\\u002Fpic4.zhimg.com\\u002Fda8e974dc_is.jpg\",\"isOrg\":false,\"headline\":\"\",\"badge\":[],\"id\":\"35a64d5d079af649d406dd6a3c8e917b\"},\"url\":\"http:\\u002F\\u002Fwww.zhihu.com\\u002Fapi\\u002Fv4\\u002Fanswers\\u002F889468027\",\"excerpt\":\"今年结婚十周年，从一个被窝搂着睡，到两个被窝各自睡，再到两个房间关门睡。你要问我是不是夫妻感情不好了？绝对不是，顶多是从爱情向亲情转化了一部分。新婚时黏黏糊糊，你侬我侬，宁愿忍受冬日从背后钻入的寒风也要一个被窝搂着睡。后来慢慢地开始思念一…\",\"question\":{\"questionType\":\"normal\",\"created\":1570324253,\"url\":\"http:\\u002F\\u002Fwww.zhihu.com\\u002Fapi\\u002Fv4\\u002Fquestions\\u002F349336654\",\"title\":\"婚后夫妻睡一个被窝么？\",\"type\":\"question\",\"id\":349336654,\"updatedTime\":1570324253},\"updatedTime\":1573401071,\"thumbnail\":\"\",\"commentCount\":79,\"extras\":\"\",\"answerType\":\"answer\",\"createdTime\":1573400776,\"isCopyable\":true,\"type\":\"answer\",\"id\":889468027,\"voteupCount\":267}}],\"title\":\"吐槽的我很爽啊\",\"url\":\"http:\\u002F\\u002Fwww.zhihu.com\\u002Fapi\\u002Fv4\\u002Fcollections\\u002F204906952\",\"totalCount\":7532,\"creator\":{\"avatarUrlTemplate\":\"https:\\u002F\\u002Fpic4.zhimg.com\\u002Fda8e974dc_{size}.jpg\",\"type\":\"people\",\"name\":\"特特\",\"url\":\"http:\\u002F\\u002Fwww.zhihu.com\\u002Fapi\\u002Fv4\\u002Fpeople\\u002F18aaf473be2d5ef526c3a1e7257e7d48\",\"userType\":\"people\",\"urlToken\":\"te-te-97-14\",\"isAdvertiser\":false,\"avatarUrl\":\"https:\\u002F\\u002Fpic4.zhimg.com\\u002Fda8e974dc_is.jpg\",\"isOrg\":false,\"headline\":\"\",\"badge\":[],\"id\":\"18aaf473be2d5ef526c3a1e7257e7d48\"},\"isFollowing\":false,\"followerCount\":382,\"isPublic\":true,\"type\":\"collection\",\"id\":204906952}},\"columns\":{\"c_207386134\":{\"updated\":1562721352,\"description\":\"无设计 ‖ 不生活【公众号:陈西设计之家 ‖ 公众号ID:chenxishejizhijia】PPT专业中高端定制联系微信：cz07082116【陈西】\",\"intro\":\"无设计 ‖ 不生活【公众号:陈西设计之家】\",\"urlToken\":\"c_207386134\",\"id\":\"c_207386134\",\"articlesCount\":200,\"acceptSubmission\":true,\"title\":\"陈西设计之家\",\"url\":\"https:\\u002F\\u002Fzhuanlan.zhihu.com\\u002Fc_207386134\",\"commentPermission\":\"all\",\"created\":1529993021,\"imageUrl\":\"https:\\u002F\\u002Fpic4.zhimg.com\\u002Fv2-74be3caf46b2bd2648f3bb0c20a59926_b.jpg\",\"followers\":1317,\"type\":\"column\"},\"readrun\":{\"updated\":1563974562,\"description\":\"欢迎关注我的公众号【英文】，搜索【EnglishFeed】即可。欢迎各位英语大咖投稿，最好是中英双语、趣味性或实用性较强的原创文章，干货最佳。\",\"intro\":\"关于英文的一些双语文章，原创或转载。\",\"urlToken\":\"readrun\",\"id\":\"readrun\",\"articlesCount\":208,\"acceptSubmission\":true,\"title\":\"英文\",\"url\":\"https:\\u002F\\u002Fzhuanlan.zhihu.com\\u002Freadrun\",\"commentPermission\":\"all\",\"created\":1471799414,\"imageUrl\":\"https:\\u002F\\u002Fpic3.zhimg.com\\u002Fv2-a4c5685e952c51979ed5839c5bcedfa7_b.jpg\",\"followers\":518,\"type\":\"column\"},\"xudewen\":{\"updated\":1573029522,\"description\":\"科学领域头部作者，已创作近2000篇原创文章，在今日头条、企鹅号、百家号、微信公众号等自媒体平台真实阅读量已超过4.6亿。思维活跃，知识广博，有较深的文学、科学沉淀，坚持创作最新、最前沿、最有趣的科学科普文章。善于用简洁明了的文学语言阐明复杂尖深科学问题，文章能紧紧抓住读者视线，引发公众思考及讨论，几乎每天都有阅读10万+文章，每月都有100万+文章，并偶有1000万+文章。公众号：xudewen028，敬请关注。另：本人文章面向普罗大众，自诩专家、科学家的请绕道；时间有限，恕不回应质疑，真有原则性错误，会根据读者批评改正。\",\"intro\":\"微信公众号：xudewen028\",\"urlToken\":\"xudewen\",\"id\":\"xudewen\",\"articlesCount\":994,\"acceptSubmission\":false,\"title\":\"徐德文5分钟科学频道：最新最前沿最有趣\",\"url\":\"https:\\u002F\\u002Fzhuanlan.zhihu.com\\u002Fxudewen\",\"commentPermission\":\"all\",\"created\":1497953451,\"imageUrl\":\"https:\\u002F\\u002Fpic2.zhimg.com\\u002Fv2-a3908890ffba70a605d37fd64bee2a70_b.jpg\",\"followers\":15018,\"type\":\"column\"},\"c_159514137\":{\"updated\":1574995119,\"description\":\"免费领取CATTI翻译和MTI翻硕考研备考资料,加个人wei信，shaoxiansheng521\",\"intro\":\"专注做更细致透彻英语翻译讲解\",\"urlToken\":\"c_159514137\",\"id\":\"c_159514137\",\"articlesCount\":293,\"acceptSubmission\":true,\"title\":\"CATTI和MTI考研考试资料与资讯\",\"url\":\"https:\\u002F\\u002Fzhuanlan.zhihu.com\\u002Fc_159514137\",\"commentPermission\":\"all\",\"created\":1517208414,\"imageUrl\":\"https:\\u002F\\u002Fpic3.zhimg.com\\u002Fv2-a876aff70658d265e18128edf5b73ce4_b.jpg\",\"followers\":1377,\"type\":\"column\"}}},\"articles\":{\"voters\":{}},\"favlists\":{\"relations\":{}},\"pins\":{\"voters\":{}},\"topstory\":{\"recommend\":{\"isFetching\":false,\"isDrained\":false,\"afterId\":0,\"items\":[],\"next\":null},\"follow\":{\"isFetching\":false,\"isDrained\":false,\"afterId\":0,\"items\":[],\"next\":null},\"followWonderful\":{\"isFetching\":false,\"isDrained\":false,\"afterId\":0,\"items\":[],\"next\":null},\"sidebar\":null,\"announcement\":{},\"hotListCategories\":[],\"hotList\":[],\"guestFeeds\":{\"isFetching\":false,\"isDrained\":false,\"afterId\":0,\"items\":[],\"next\":null},\"followExtra\":{\"isNewUser\":null,\"isFetched\":false,\"followCount\":0,\"followers\":[]}},\"upload\":{},\"video\":{\"data\":{},\"shareVideoDetail\":{},\"last\":{}},\"zvideos\":{\"tagoreCategory\":[],\"recommendations\":{}},\"guide\":{\"guide\":{\"isFetching\":false,\"isShowGuide\":false}},\"reward\":{\"answer\":{},\"article\":{},\"question\":{}},\"search\":{\"recommendSearch\":[],\"topSearch\":{},\"searchValue\":{},\"suggestSearch\":{},\"attachedInfo\":{},\"nextOffset\":{},\"topicReview\":{},\"generalByQuery\":{},\"generalByQueryInADay\":{},\"generalByQueryInAWeek\":{},\"generalByQueryInThreeMonths\":{},\"peopleByQuery\":{},\"topicByQuery\":{},\"columnByQuery\":{},\"liveByQuery\":{},\"albumByQuery\":{},\"eBookByQuery\":{}},\"publicEditPermission\":{},\"readStatus\":{},\"draftHistory\":{\"history\":{},\"drafts\":{}},\"notifications\":{\"recent\":{\"isFetching\":false,\"isDrained\":false,\"isPrevDrained\":false,\"result\":[],\"next\":null,\"key\":null},\"history\":{\"isFetching\":false,\"isDrained\":false,\"isPrevDrained\":false,\"result\":[],\"next\":null,\"key\":null},\"notificationActors\":{\"isFetching\":false,\"isDrained\":false,\"isPrevDrained\":false,\"result\":[],\"next\":null,\"key\":null},\"recentNotificationEntry\":\"all\"},\"specials\":{\"entities\":{},\"all\":{\"data\":[],\"paging\":{},\"isLoading\":false}},\"collections\":{\"hot\":{\"data\":[],\"paging\":{},\"isLoading\":false}},\"mcn\":{\"bindInfo\":{},\"memberCategoryList\":[],\"categoryList\":[],\"taobaoCategoryList\":[]},\"brand\":{\"contentPlugin\":{}},\"metaLink\":{\"metaLinkTemplate\":{}},\"host\":{\"roundtable\":{\"subjects\":{},\"applications\":{\"total\":0},\"online\":{\"total\":0},\"applies\":{},\"details\":{},\"includedResource\":{},\"hotQuestions\":{},\"batchInclude\":{}},\"special\":{\"applications\":{\"total\":0,\"pages\":{},\"entities\":{}},\"censorHistory\":{},\"drafts\":{}}},\"knowledgePlan\":{\"activityInfos\":{},\"activityStatuses\":{},\"premiumContents\":{},\"activityCreationList\":{},\"allCreationRankList\":{}}},\"subAppName\":\"main\"}</script><script src=\"https://static.zhihu.com/heifetz/vendor.1c14c07589f9cc850a64.js\"></script><script src=\"https://static.zhihu.com/heifetz/main.app.a662d8a4162fcbc4916e.js\"></script><script src=\"https://static.zhihu.com/heifetz/main.explore-routes.1fabe03ce830c78d7a2d.js\"></script></body><script async=\"\" src=\"https://hm.baidu.com/hm.js?98beee57fd2ef70ccdd5ca52b9740c49\"></script></html>\n"
    }
   ],
   "source": [
    "url = 'https://www.zhihu.com/explore'\n",
    "\n",
    "# 加上 Headers 即可取回正常資料\n",
    "headers = {'user-agent': 'Mozilla/5.0 (Windows NT 10.0; Win64; x64) AppleWebKit/537.36 (KHTML, like Gecko) Chrome/74.0.3729.169 Safari/537.36'}\n",
    "r = requests.get(url,headers = headers)\n",
    "r.encoding = 'utf-8'\n",
    "\n",
    "soup = BeautifulSoup(r.text,'html.parser')\n",
    "print(soup)\n"
   ]
  },
  {
   "cell_type": "code",
   "execution_count": null,
   "metadata": {},
   "outputs": [],
   "source": []
  },
  {
   "cell_type": "code",
   "execution_count": null,
   "metadata": {},
   "outputs": [],
   "source": []
  }
 ],
 "metadata": {
  "kernelspec": {
   "display_name": "Python 3",
   "language": "python",
   "name": "python3"
  },
  "language_info": {
   "codemirror_mode": {
    "name": "ipython",
    "version": 3
   },
   "file_extension": ".py",
   "mimetype": "text/x-python",
   "name": "python",
   "nbconvert_exporter": "python",
   "pygments_lexer": "ipython3",
   "version": "3.7.4"
  }
 },
 "nbformat": 4,
 "nbformat_minor": 2
}