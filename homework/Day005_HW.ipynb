{
 "cells": [
  {
   "cell_type": "markdown",
   "metadata": {},
   "source": [
    "# API 資料串接 - 以 Dcard API 實作範例\n",
    "\n",
    "* 了解 Dcard API 使用方式與回傳內容\n",
    "* 撰寫程式存取 API 且解析 JSON 格式資料\n"
   ]
  },
  {
   "cell_type": "markdown",
   "metadata": {},
   "source": [
    "## 作業目標\n",
    "\n",
    "* 請利用 API: https://www.dcard.tw/_api/forums/pet/posts?popular=true 回答下列問題：\n",
    "\n",
    "1. 這個 API 一次會回傳幾筆資料？每一筆資料包含哪些欄位？\n",
    "2. 取出每一筆資料的「標題」、「貼文時間」、「留言人數」、「按讚人數」\n",
    "3. 計算熱門/非熱門文章的「平均留言人數」與「平均按讚人數」"
   ]
  },
  {
   "cell_type": "code",
   "execution_count": 31,
   "metadata": {},
   "outputs": [
    {
     "name": "stdout",
     "output_type": "stream",
     "text": "API 回傳的資料筆數: 30\n每一筆資料包含下列欄位:\ndict_keys(['id', 'title', 'excerpt', 'anonymousSchool', 'anonymousDepartment', 'pinned', 'forumId', 'replyId', 'createdAt', 'updatedAt', 'commentCount', 'likeCount', 'withNickname', 'tags', 'topics', 'meta', 'forumName', 'forumAlias', 'gender', 'school', 'replyTitle', 'mediaMeta', 'reactions', 'hidden', 'customStyle', 'isSuspiciousAccount', 'layout', 'withImages', 'withVideos', 'media', 'reportReasonText', 'postAvatar'])\n"
    }
   ],
   "source": [
    "# 1. 這個 API 一次會回傳幾筆資料？每一筆資料包含哪些欄位？\n",
    "import requests\n",
    "import json\n",
    "r = requests.get('https://www.dcard.tw/_api/forums/pet/posts?popular=true')\n",
    "response = r.text\n",
    "json_data = json.loads(response)\n",
    "print('API 回傳的資料筆數:',len(json_data))\n",
    "\n",
    "# Convert json data to dictionary\n",
    "json_data_field = json_data[0]\n",
    "\n",
    "print('每一筆資料包含下列欄位:')\n",
    "print (json_data_field.keys())"
   ]
  },
  {
   "cell_type": "code",
   "execution_count": 73,
   "metadata": {},
   "outputs": [
    {
     "name": "stdout",
     "output_type": "stream",
     "text": "貼文時間:2019-12-05T05:31:34.760Z  留言人數:    54 按讚人數:  1791   標題:你是要我睡哪裡                       \n貼文時間:2019-12-05T15:38:46.127Z  留言人數:     8 按讚人數:   630   標題:投降的貓咪                         \n貼文時間:2019-12-05T16:58:51.962Z  留言人數:    10 按讚人數:   431   標題:養貓的看到真的有感                     \n貼文時間:2019-12-05T07:58:20.451Z  留言人數:    11 按讚人數:   413   標題:#貓 是俊榮！！                      \n貼文時間:2019-12-05T14:31:08.763Z  留言人數:     4 按讚人數:   306   標題:同學你的貓也太霸氣了吧！                  \n貼文時間:2019-12-05T06:49:33.372Z  留言人數:    15 按讚人數:   284   標題:你們有看到我的兔兔嗎？#圖多                \n貼文時間:2019-12-05T06:37:47.406Z  留言人數:     8 按讚人數:   212   標題:厭世的卡納胖拉                       \n貼文時間:2019-12-05T13:34:47.878Z  留言人數:     3 按讚人數:    80   標題:你其實是兔子吧                       \n貼文時間:2019-12-05T05:06:06.855Z  留言人數:    43 按讚人數:    73   標題:蓋個瑪爾濟一、濟二、濟三、瑪爾濟斯樓            \n貼文時間:2019-12-05T10:51:05.471Z  留言人數:     3 按讚人數:    52   標題:打哈欠                           \n貼文時間:2019-12-05T12:07:04.022Z  留言人數:     1 按讚人數:    37   標題:請給媽媽一點個人空間                    \n貼文時間:2019-12-05T10:05:57.375Z  留言人數:     2 按讚人數:    33   標題:你的貓太可愛啦！！！                    \n貼文時間:2019-12-05T15:11:33.392Z  留言人數:     5 按讚人數:    31   標題:我家也有狐獴啦😳                      \n貼文時間:2019-12-06T05:59:13.675Z  留言人數:     1 按讚人數:    25   標題:小貓 vs 哈士奇の貓狗大戰                \n貼文時間:2019-12-05T15:07:30.954Z  留言人數:     8 按讚人數:    25   標題:一點點溫暖                         \n貼文時間:2019-12-05T13:08:14.274Z  留言人數:     0 按讚人數:    23   標題:看鏡頭柴                          \n貼文時間:2019-12-05T08:52:33.871Z  留言人數:     0 按讚人數:    23   標題:我是yoyo施米達🐾                    \n貼文時間:2019-12-05T17:12:38.037Z  留言人數:     0 按讚人數:    20   標題:小南門被棄養的狗                      \n貼文時間:2019-12-05T07:24:27.979Z  留言人數:     0 按讚人數:    18   標題:協尋我家狗狗😭                       \n貼文時間:2019-12-06T06:27:08.672Z  留言人數:     0 按讚人數:    16   標題:到底誰才是正宮！                      \n貼文時間:2019-12-05T14:06:14.948Z  留言人數:     5 按讚人數:    16   標題:#更  真的是傲嬌黏人貓                  \n貼文時間:2019-12-06T00:36:50.915Z  留言人數:     6 按讚人數:    15   標題:這位同學你的貓被通緝了                   \n貼文時間:2019-12-05T15:02:18.430Z  留言人數:     8 按讚人數:    15   標題:每天都想吸貓 我家的貓真的可愛到融化😭😭🥺🥺        \n貼文時間:2019-12-06T10:36:45.348Z  留言人數:     1 按讚人數:    13   標題:#圖 媽 所以我的哥哥勒？                 \n貼文時間:2019-12-06T06:54:49.757Z  留言人數:     0 按讚人數:    12   標題:金鋼狼出現了！                       \n貼文時間:2019-12-05T12:59:39.165Z  留言人數:     0 按讚人數:    12   標題:台中公益路上#走失#吉娃娃                 \n貼文時間:2019-12-05T16:36:17.447Z  留言人數:     1 按讚人數:    11   標題:看到這麼可愛的貓貓還不還錢嗎？               \n貼文時間:2019-12-06T09:03:54.724Z  留言人數:     8 按讚人數:    10   標題:只是想曬貓                         \n貼文時間:2019-12-05T18:09:02.478Z  留言人數:     5 按讚人數:    10   標題:寵物溝通 求助                       \n貼文時間:2019-12-06T00:56:48.652Z  留言人數:     0 按讚人數:     9   標題:愛你                            \n"
    }
   ],
   "source": [
    "# 2. 取出每一筆資料的「標題」、「貼文時間」、「留言人數」、「按讚人數」\n",
    "\n",
    "for data in json_data:\n",
    "    print('貼文時間:{1:25} 留言人數:{2:6d} 按讚人數:{3:6d}   標題:{0:30}'.format(\n",
    "        data['title'],data['createdAt'],data['commentCount'],data['likeCount']))\n"
   ]
  },
  {
   "cell_type": "code",
   "execution_count": 77,
   "metadata": {},
   "outputs": [
    {
     "name": "stdout",
     "output_type": "stream",
     "text": "熱門文章的「平均留言人數: 7.0\n熱門文章的「平均按讚人數: 154.86666666666667\n非熱門文章的「平均留言人數: 2.566666666666667\n非熱門文章的「平均按讚人數: 6.133333333333334\n"
    }
   ],
   "source": [
    "# 3. 計算熱門/非熱門文章的「平均留言人數」與「平均按讚人數」\n",
    "\n",
    "commentCount = 0\n",
    "likeCount = 0\n",
    "totalCount = 0\n",
    "\n",
    "for data in json_data:\n",
    "    commentCount += data['commentCount']\n",
    "    likeCount += data['likeCount']\n",
    "    totalCount += 1\n",
    "\n",
    "print('熱門文章的「平均留言人數:',commentCount/totalCount)\n",
    "print('熱門文章的「平均按讚人數:',likeCount/totalCount)\n",
    "\n",
    "non_pop ='https://www.dcard.tw/_api/forums/pet/posts?popular=false'\n",
    "r = requests.get(non_pop)\n",
    "response = r.text\n",
    "json_data = json.loads(response)\n",
    "\n",
    "commentCount = 0\n",
    "likeCount = 0\n",
    "totalCount = 0\n",
    "\n",
    "for data in json_data:\n",
    "    commentCount += data['commentCount']\n",
    "    likeCount += data['likeCount']\n",
    "    totalCount += 1\n",
    "\n",
    "print('非熱門文章的「平均留言人數:',commentCount/totalCount)\n",
    "print('非熱門文章的「平均按讚人數:',likeCount/totalCount)\n"
   ]
  },
  {
   "cell_type": "code",
   "execution_count": null,
   "metadata": {},
   "outputs": [],
   "source": []
  },
  {
   "cell_type": "code",
   "execution_count": null,
   "metadata": {},
   "outputs": [],
   "source": []
  }
 ],
 "metadata": {
  "kernelspec": {
   "display_name": "Python 3",
   "language": "python",
   "name": "python3"
  },
  "language_info": {
   "codemirror_mode": {
    "name": "ipython",
    "version": 3
   },
   "file_extension": ".py",
   "mimetype": "text/x-python",
   "name": "python",
   "nbconvert_exporter": "python",
   "pygments_lexer": "ipython3",
   "version": "3.7.4"
  }
 },
 "nbformat": 4,
 "nbformat_minor": 2
}