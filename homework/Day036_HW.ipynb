{
 "cells": [
  {
   "cell_type": "markdown",
   "metadata": {},
   "source": [
    "# 加速：非同步爬蟲\n",
    "\n",
    "* 了解非同步爬蟲加速原理與實作"
   ]
  },
  {
   "cell_type": "markdown",
   "metadata": {},
   "source": [
    "## 作業目標\n",
    "\n",
    "* 比較一下非同步爬蟲跟多線程爬蟲的差異是什麼？各自的優缺點為何？"
   ]
  },
  {
   "cell_type": "code",
   "execution_count": 1,
   "metadata": {},
   "outputs": [
    {
     "name": "stdout",
     "output_type": "stream",
     "text": "1. 非同步：\n優點 : 程式執行當下不用等到當下的工作執行完畢,就繼續往下執行其他指令\n缺點 : 比同步還要占用更多系統資源 (RAM usage)\n2. 多線程：\n優點 : 程式會分成多個工作線程平行執行\n缺點 : 因為 Python 的 GIL(Global Interpreter Lock) 機制導致無法活用 CPU 多核心，僅能使用單核心\n"
    }
   ],
   "source": [
    "print(\"1. 非同步：\")\n",
    "print(\"優點 : 程式執行當下不用等到當下的工作執行完畢,就繼續往下執行其他指令\")\n",
    "print(\"缺點 : 比同步還要占用更多系統資源 (RAM usage)\")\n",
    "print(\"2. 多線程：\")\n",
    "print(\"優點 : 程式會分成多個工作線程平行執行\")\n",
    "print(\"缺點 : 因為 Python 的 GIL(Global Interpreter Lock) 機制導致無法活用 CPU 多核心，僅能使用單核心\")"
   ]
  },
  {
   "cell_type": "code",
   "execution_count": null,
   "metadata": {},
   "outputs": [],
   "source": []
  }
 ],
 "metadata": {
  "colab": {
   "name": "homework.ipynb",
   "provenance": []
  },
  "kernelspec": {
   "display_name": "Python 3",
   "language": "python",
   "name": "python3"
  },
  "language_info": {
   "codemirror_mode": {
    "name": "ipython",
    "version": 3
   },
   "file_extension": ".py",
   "mimetype": "text/x-python",
   "name": "python",
   "nbconvert_exporter": "python",
   "pygments_lexer": "ipython3",
   "version": "3.7.4-final"
  }
 },
 "nbformat": 4,
 "nbformat_minor": 1
}