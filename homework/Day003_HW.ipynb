{
 "cells": [
  {
   "cell_type": "markdown",
   "metadata": {},
   "source": [
    "# Python 下載XML檔案與解析\n",
    "\n",
    "\n",
    "* 了解 xml 檔案格式與內容\n",
    "* 能夠利用套件存取 xml 格式的檔案\n"
   ]
  },
  {
   "cell_type": "markdown",
   "metadata": {},
   "source": [
    "## 作業目標\n",
    "\n",
    "* 比較一下範例檔案中的「File I/O」與「xmltodict」讀出來的內容有什麼差異\n",
    "\n",
    "* 根據範例檔案的結果：\n",
    "    1. 請問高雄市有多少地區有溫度資料？\n",
    "    2. 請取出每一個地區所記錄的第一個時間點跟溫度\n",
    "    3. 請取出第一個地區所記錄的每一個時間點跟溫度"
   ]
  },
  {
   "cell_type": "markdown",
   "metadata": {},
   "source": [
    "### 比較一下範例檔案中的「File I/O」與「xmltodict」讀出來的內容有什麼差異\n"
   ]
  },
  {
   "cell_type": "code",
   "execution_count": 1,
   "metadata": {},
   "outputs": [
    {
     "name": "stdout",
     "output_type": "stream",
     "text": "   <dataTime>2019-12-03T12:00:00+08:00</dataTime>\n            <elementValue>\n              <value>21</value>\n              <measures>攝氏度</measures>\n            </elementValue>\n          </time>\n          <time>\n            <dataTime>2019-12-03T15:00:00+08:00</dataTime>\n            <elementValue>\n              <value>20</value>\n              <measures>攝氏度</measures>\n            </elementValue>\n          </time>\n          <time>\n            <dataTime>2019-12-03T18:00:00+08:00</dataTime>\n            <elementValue>\n              <value>16</value>\n              <measures>攝氏度</measures>\n            </elementValue>\n          </time>\n          <time>\n            <dataTime>2019-12-03T21:00:00+08:00</dataTime>\n            <elementValue>\n              <value>14</value>\n              <measures>攝氏度</measures>\n            </elementValue>\n          </time>\n          <time>\n            <dataTime>2019-12-04T00:00:00+08:00</dataTime>\n            <elementValue>\n              <value>14</value>\n              <measures>攝氏度</measures>\n            </elementValue>\n          </time>\n          <time>\n            <dataTime>2019-12-04T03:00:00+08:00</dataTime>\n            <elementValue>\n              <value>13</value>\n              <measures>攝氏度</measures>\n            </elementValue>\n          </time>\n          <time>\n            <dataTime>2019-12-04T06:00:00+08:00</dataTime>\n            <elementValue>\n              <value>13</value>\n              <measures>攝氏度</measures>\n            </elementValue>\n          </time>\n          <time>\n            <dataTime>2019-12-04T09:00:00+08:00</dataTime>\n            <elementValue>\n              <value>16</value>\n              <measures>攝氏度</measures>\n            </elementValue>\n          </time>\n        </weatherElement>\n        <weatherElement>\n          <elementName>Wx</elementName>\n          <description>天氣現象</description>\n          <time>\n            <startTime>2019-12-01T12:00:00+08:00</startTime>\n            <endTime>2019-12-01T15:00:00+08:00</endTime>\n            <elementValue>\n              <value>晴</value>\n              <measures>自定義 Wx 文字</measures>\n            </elementValue>\n            <elementValue>\n              <value>01</value>\n              <measures>自定義 Wx 單位</measures>\n            </elementValue>\n          </time>\n          <time>\n            <startTime>2019-12-01T15:00:00+08:00</startTime>\n            <endTime>2019-12-01T18:00:00+08:00</endTime>\n            <elementValue>\n              <value>晴</value>\n              <measures>自定義 Wx 文字</measures>\n            </elementValue>\n            <elementValue>\n              <value>01</value>\n              <measures>自定義 Wx 單位</measures>\n            </elementValue>\n          </time>\n          <time>\n            <startTime>2019-12-01T18:00:00+08:00</startTime>\n            <endTime>2019-12-01T21:00:00+08:00</endTime>\n            <elementValue>\n              <value>晴</value>\n              <measures>自定義 Wx 文字</measures>\n            </elementValue>\n            <elementValue>\n              <value>01</value>\n              <measures>自定義 Wx 單位</measures>\n            </elementValue>\n          </time>\n          <time>\n            <startTime>2019-12-01T21:00:00+08:00</startTime>\n            <endTime>2019-12-02T00:00:00+08:00</endTime>\n            <elementValue>\n              <value>晴</value>\n              <measures>自定義 Wx 文字</measures>\n            </elementValue>\n            <elementValue>\n              <value>01</value>\n              <measures>自定義 Wx 單位</measures>\n            </elementValue>\n          </time>\n          <time>\n            <startTime>2019-12-02T00:00:00+08:00</startTime>\n            <endTime>2019-12-02T03:00:00+08:00</endTime>\n            <elementValue>\n              <value>晴</value>\n              <measures>自定義 Wx 文字</measures>\n            </elementValue>\n            <elementValue>\n              <value>01</value>\n              <measures>自定義 Wx 單位</measures>\n            </elementValue>\n          </time>\n          <time>\n            <startTime>2019-12-02T03:00:00+08:00</startTime>\n            <endTime>2019-12-02T06:00:00+08:00</endTime>\n            <elementValue>\n              <value>晴</value>\n              <measures>自定義 Wx 文字</measures>\n            </elementValue>\n            <elementValue>\n              <value>01</value>\n              <measures>自定義 Wx 單位</measures>\n            </elementValue>\n          </time>\n          <time>\n            <startTime>2019-12-02T06:00:00+08:00</startTime>\n            <endTime>2019-12-02T09:00:00+08:00</endTime>\n            <elementValue>\n              <value>晴</value>\n              <measures>自定義 Wx 文字</measures>\n            </elementValue>\n            <elementValue>\n              <value>01</value>\n              <measures>自定義 Wx 單位</measures>\n            </elementValue>\n          </time>\n          <time>\n            <startTime>2019-12-02T09:00:00+08:00</startTime>\n            <endTime>2019-12-02T12:00:00+08:00</endTime>\n            <elementValue>\n              <value>晴</value>\n              <measures>自定義 Wx 文字</measures>\n            </elementValue>\n            <elementValue>\n              <value>01</value>\n              <measures>自定義 Wx 單位</measures>\n            </elementValue>\n          </time>\n          <time>\n            <startTime>2019-12-02T12:00:00+08:00</startTime>\n            <endTime>2019-12-02T15:00:00+08:00</endTime>\n            <elementValue>\n              <value>晴</value>\n              <measures>自定義 Wx 文字</measures>\n            </elementValue>\n            <elementValue>\n              <value>01</value>\n              <measures>自定義 Wx 單位</measures>\n            </elementValue>\n          </time>\n          <time>\n            <startTime>2019-12-02T15:00:00+08:00</startTime>\n            <endTime>2019-12-02T18:00:00+08:00</endTime>\n            <elementValue>\n              <value>晴</value>\n              <measures>自定義 Wx 文字</measures>\n            </elementValue>\n            <elementValue>\n              <value>01</value>\n              <measures>自定義 Wx 單位</measures>\n            </elementValue>\n          </time>\n          <time>\n            <startTime>2019-12-02T18:00:00+08:00</startTime>\n            <endTime>2019-12-02T21:00:00+08:00</endTime>\n            <elementValue>\n              <value>晴</value>\n              <measures>自定義 Wx 文字</measures>\n            </elementValue>\n            <elementValue>\n              <value>01</value>\n              <measures>自定義 Wx 單位</measures>\n            </elementValue>\n          </time>\n          <time>\n            <startTime>2019-12-02T21:00:00+08:00</startTime>\n            <endTime>2019-12-03T00:00:00+08:00</endTime>\n            <elementValue>\n              <value>晴</value>\n              <measures>自定義 Wx 文字</measures>\n            </elementValue>\n            <elementValue>\n              <value>01</value>\n              <measures>自定義 Wx 單位</measures>\n            </elementValue>\n          </time>\n          <time>\n            <startTime>2019-12-03T00:00:00+08:00</startTime>\n            <endTime>2019-12-03T03:00:00+08:00</endTime>\n            <elementValue>\n              <value>晴</value>\n              <measures>自定義 Wx 文字</measures>\n            </elementValue>\n            <elementValue>\n              <value>01</value>\n              <measures>自定義 Wx 單位</measures>\n            </elementValue>\n          </time>\n          <time>\n            <startTime>2019-12-03T03:00:00+08:00</startTime>\n            <endTime>2019-12-03T06:00:00+08:00</endTime>\n            <elementValue>\n              <value>晴</value>\n              <measures>自定義 Wx 文字</measures>\n            </elementValue>\n            <elementValue>\n              <value>01</value>\n              <measures>自定義 Wx 單位</measures>\n            </elementValue>\n          </time>\n          <time>\n            <startTime>2019-12-03T06:00:00+08:00</startTime>\n            <endTime>2019-12-03T09:00:00+08:00</endTime>\n            <elementValue>\n              <value>晴</value>\n              <measures>自定義 Wx 文字</measures>\n            </elementValue>\n            <elementValue>\n              <value>01</value>\n              <measures>自定義 Wx 單位</measures>\n            </elementValue>\n          </time>\n          <time>\n            <startTime>2019-12-03T09:00:00+08:00</startTime>\n            <endTime>2019-12-03T12:00:00+08:00</endTime>\n            <elementValue>\n              <value>晴</value>\n              <measures>自定義 Wx 文字</measures>\n            </elementValue>\n            <elementValue>\n              <value>01</value>\n              <measures>自定義 Wx 單位</measures>\n            </elementValue>\n          </time>\n          <time>\n            <startTime>2019-12-03T12:00:00+08:00</startTime>\n            <endTime>2019-12-03T15:00:00+08:00</endTime>\n            <elementValue>\n              <value>晴</value>\n              <measures>自定義 Wx 文字</measures>\n            </elementValue>\n            <elementValue>\n              <value>01</value>\n              <measures>自定義 Wx 單位</measures>\n            </elementValue>\n          </time>\n          <time>\n            <startTime>2019-12-03T15:00:00+08:00</startTime>\n            <endTime>2019-12-03T18:00:00+08:00</endTime>\n            <elementValue>\n              <value>晴</value>\n              <measures>自定義 Wx 文字</measures>\n            </elementValue>\n            <elementValue>\n              <value>01</value>\n              <measures>自定義 Wx 單位</measures>\n            </elementValue>\n          </time>\n          <time>\n            <startTime>2019-12-03T18:00:00+08:00</startTime>\n            <endTime>2019-12-03T21:00:00+08:00</endTime>\n            <elementValue>\n              <value>晴</value>\n              <measures>自定義 Wx 文字</measures>\n            </elementValue>\n            <elementValue>\n              <value>01</value>\n              <measures>自定義 Wx 單位</measures>\n            </elementValue>\n          </time>\n          <time>\n            <startTime>2019-12-03T21:00:00+08:00</startTime>\n            <endTime>2019-12-04T00:00:00+08:00</endTime>\n            <elementValue>\n              <value>晴</value>\n              <measures>自定義 Wx 文字</measures>\n            </elementValue>\n            <elementValue>\n              <value>01</value>\n              <measures>自定義 Wx 單位</measures>\n            </elementValue>\n          </time>\n          <time>\n            <startTime>2019-12-04T00:00:00+08:00</startTime>\n            <endTime>2019-12-04T03:00:00+08:00</endTime>\n            <elementValue>\n              <value>晴</value>\n              <measures>自定義 Wx 文字</measures>\n            </elementValue>\n            <elementValue>\n              <value>01</value>\n              <measures>自定義 Wx 單位</measures>\n            </elementValue>\n          </time>\n          <time>\n            <startTime>2019-12-04T03:00:00+08:00</startTime>\n            <endTime>2019-12-04T06:00:00+08:00</endTime>\n            <elementValue>\n              <value>多雲</value>\n              <measures>自定義 Wx 文字</measures>\n            </elementValue>\n            <elementValue>\n              <value>04</value>\n              <measures>自定義 Wx 單位</measures>\n            </elementValue>\n          </time>\n          <time>\n            <startTime>2019-12-04T06:00:00+08:00</startTime>\n            <endTime>2019-12-04T09:00:00+08:00</endTime>\n            <elementValue>\n              <value>多雲</value>\n              <measures>自定義 Wx 文字</measures>\n            </elementValue>\n            <elementValue>\n              <value>04</value>\n              <measures>自定義 Wx 單位</measures>\n            </elementValue>\n          </time>\n          <time>\n            <startTime>2019-12-04T09:00:00+08:00</startTime>\n            <endTime>2019-12-04T12:00:00+08:00</endTime>\n            <elementValue>\n              <value>短暫雨</value>\n              <measures>自定義 Wx 文字</measures>\n            </elementValue>\n            <elementValue>\n              <value>08</value>\n              <measures>自定義 Wx 單位</measures>\n            </elementValue>\n          </time>\n        </weatherElement>\n        <weatherElement>\n          <elementName>WeatherDescription</elementName>\n          <description>天氣預報綜合描述</description>\n          <time>\n            <startTime>2019-12-01T12:00:00+08:00</startTime>\n            <endTime>2019-12-01T15:00:00+08:00</endTime>\n            <elementValue>\n              <value>晴。降雨機率 0%。溫度攝氏24度。舒適。西北風 平均風速&lt;= 1級(每秒1公尺)。相對濕度68%。</value>\n              <measures>NA</measures>\n            </elementValue>\n          </time>\n          <time>\n            <startTime>2019-12-01T15:00:00+08:00</startTime>\n            <endTime>2019-12-01T18:00:00+08:00</endTime>\n            <elementValue>\n              <value>晴。降雨機率 0%。溫度攝氏21度。舒適。西北風 平均風速&lt;= 1級(每秒1公尺)。相對濕度69%。</value>\n              <measures>NA</measures>\n            </elementValue>\n          </time>\n          <time>\n            <startTime>2019-12-01T18:00:00+08:00</startTime>\n            <endTime>2019-12-01T21:00:00+08:00</endTime>\n            <elementValue>\n              <value>晴。降雨機率 0%。溫度攝氏16度。稍有寒意。偏東風 平均風速&lt;= 1級(每秒0公尺)。相對濕度81%。</value>\n              <measures>NA</measures>\n            </elementValue>\n          </time>\n          <time>\n            <startTime>2019-12-01T21:00:00+08:00</startTime>\n            <endTime>2019-12-02T00:00:00+08:00</endTime>\n            <elementValue>\n              <value>晴。降雨機率 0%。溫度攝氏15度。稍有寒意。偏東風 平均風速&lt;= 1級(每秒1公尺)。相對濕度79%。</value>\n              <measures>NA</measures>\n            </elementValue>\n          </time>\n          <time>\n            <startTime>2019-12-02T00:00:00+08:00</startTime>\n            <endTime>2019-12-02T03:00:00+08:00</endTime>\n            <elementValue>\n              <value>晴。降雨機率 0%。溫度攝氏15度。稍有寒意。偏東風 平均風速&lt;= 1級(每秒0公尺)。相對濕度83%。</value>\n              <measures>NA</measures>\n            </elementValue>\n          </time>\n          <time>\n            <startTime>2019-12-02T03:00:00+08:00</startTime>\n            <endTime>2019-12-02T06:00:00+08:00</endTime>\n            <elementValue>\n              <value>晴。降雨機率 0%。溫度攝氏14度。寒冷。偏東風 平均風速&lt;= 1級(每秒0公尺)。相對濕度80%。</value>\n              <measures>NA</measures>\n            </elementValue>\n          </time>\n          <time>\n            <startTime>2019-12-02T06:00:00+08:00</startTime>\n            <endTime>2019-12-02T09:00:00+08:00</endTime>\n            <elementValue>\n              <value>晴。降雨機率 0%。溫度攝氏14度。寒冷。東北風 平均風速&lt;= 1級(每秒0公尺)。相對濕度78%。</value>\n              <measures>NA</measures>\n            </elementValue>\n          </time>\n          <time>\n            <startTime>2019-12-02T09:00:00+08:00</startTime>\n            <endTime>2019-12-02T12:00:00+08:00</endTime>\n            <elementValue>\n              <value>晴。降雨機率 0%。溫度攝氏18度。稍有寒意。偏西風 平均風速&lt;= 1級(每秒1公尺)。相對濕度76%。</value>\n              <measures>NA</measures>\n            </elementValue>\n          </time>\n          <time>\n            <startTime>2019-12-02T12:00:00+08:00</startTime>\n            <endTime>2019-12-02T15:00:00+08:00</endTime>\n            <elementValue>\n              <value>晴。降雨機率 0%。溫度攝氏22度。舒適。西北風 平均風速&lt;= 1級(每秒0公尺)。相對濕度78%。</value>\n              <measures>NA</measures>\n            </elementValue>\n          </time>\n          <time>\n            <startTime>2019-12-02T15:00:00+08:00</startTime>\n            <endTime>2019-12-02T18:00:00+08:00</endTime>\n            <elementValue>\n              <value>晴。降雨機率 0%。溫度攝氏19度。舒適。西北風 平均風速&lt;= 1級(每秒1公尺)。相對濕度80%。</value>\n              <measures>NA</measures>\n            </elementValue>\n          </time>\n          <time>\n            <startTime>2019-12-02T18:00:00+08:00</startTime>\n            <endTime>2019-12-02T21:00:00+08:00</endTime>\n            <elementValue>\n              <value>晴。降雨機率 0%。溫度攝氏14度。寒冷。東北風 平均風速&lt;= 1級(每秒0公尺)。相對濕度87%。</value>\n              <measures>NA</measures>\n            </elementValue>\n          </time>\n          <time>\n            <startTime>2019-12-02T21:00:00+08:00</startTime>\n            <endTime>2019-12-03T00:00:00+08:00</endTime>\n            <elementValue>\n              <value>晴。降雨機率 0%。溫度攝氏12度。寒冷。偏東風 平均風速&lt;= 1級(每秒0公尺)。相對濕度81%。</value>\n              <measures>NA</measures>\n            </elementValue>\n          </time>\n          <time>\n            <startTime>2019-12-03T00:00:00+08:00</startTime>\n            <endTime>2019-12-03T03:00:00+08:00</endTime>\n            <elementValue>\n              <value>晴。降雨機率 0%。溫度攝氏12度。寒冷。偏東風 平均風速&lt;= 1級(每秒0公尺)。相對濕度84%。</value>\n              <measures>NA</measures>\n            </elementValue>\n          </time>\n          <time>\n            <startTime>2019-12-03T03:00:00+08:00</startTime>\n            <endTime>2019-12-03T06:00:00+08:00</endTime>\n            <elementValue>\n              <value>晴。降雨機率 0%。溫度攝氏11度。寒冷。偏東風 平均風速&lt;= 1級(每秒0公尺)。相對濕度76%。</value>\n              <measures>NA</measures>\n            </elementValue>\n          </time>\n          <time>\n            <startTime>2019-12-03T06:00:00+08:00</startTime>\n            <endTime>2019-12-03T09:00:00+08:00</endTime>\n            <elementValue>\n              <value>晴。降雨機率 0%。溫度攝氏11度。寒冷。西南風 平均風速&lt;= 1級(每秒0公尺)。相對濕度65%。</value>\n              <measures>NA</measures>\n            </elementValue>\n          </time>\n          <time>\n            <startTime>2019-12-03T09:00:00+08:00</startTime>\n            <endTime>2019-12-03T12:00:00+08:00</endTime>\n            <elementValue>\n              <value>晴。降雨機率 0%。溫度攝氏15度。稍有寒意。偏西風 平均風速&lt;= 1級(每秒1公尺)。相對濕度73%。</value>\n              <measures>NA</measures>\n            </elementValue>\n          </time>\n          <time>\n            <startTime>2019-12-03T12:00:00+08:00</startTime>\n            <endTime>2019-12-03T15:00:00+08:00</endTime>\n            <elementValue>\n              <value>晴。降雨機率 0%。溫度攝氏20度。舒適。偏西風 平均風速&lt;= 1級(每秒0公尺)。相對濕度79%。</value>\n              <measures>NA</measures>\n            </elementValue>\n          </time>\n          <time>\n            <startTime>2019-12-03T15:00:00+08:00</startTime>\n            <endTime>2019-12-03T18:00:00+08:00</endTime>\n            <elementValue>\n              <value>晴。降雨機率 0%。溫度攝氏18度。稍有寒意。西南風 平均風速&lt;= 1級(每秒0公尺)。相對濕度85%。</value>\n              <measures>NA</measures>\n            </elementValue>\n          </time>\n          <time>\n            <startTime>2019-12-03T18:00:00+08:00</startTime>\n            <endTime>2019-12-03T21:00:00+08:00</endTime>\n            <elementValue>\n              <value>晴。降雨機率 0%。溫度攝氏15度。稍有寒意。偏東風 平均風速&lt;= 1級(每秒0公尺)。相對濕度88%。</value>\n              <measures>NA</measures>\n            </elementValue>\n          </time>\n          <time>\n            <startTime>2019-12-03T21:00:00+08:00</startTime>\n            <endTime>2019-12-04T00:00:00+08:00</endTime>\n            <elementValue>\n              <value>晴。降雨機率 0%。溫度攝氏14度。寒冷。偏東風 平均風速&lt;= 1級(每秒0公尺)。相對濕度88%。</value>\n              <measures>NA</measures>\n            </elementValue>\n          </time>\n          <time>\n            <startTime>2019-12-04T00:00:00+08:00</startTime>\n            <endTime>2019-12-04T03:00:00+08:00</endTime>\n            <elementValue>\n              <value>晴。降雨機率 20%。溫度攝氏14度。寒冷。偏東風 平均風速&lt;= 1級(每秒0公尺)。相對濕度81%。</value>\n              <measures>NA</measures>\n            </elementValue>\n          </time>\n          <time>\n            <startTime>2019-12-04T03:00:00+08:00</startTime>\n            <endTime>2019-12-04T06:00:00+08:00</endTime>\n            <elementValue>\n              <value>多雲。降雨機率 20%。溫度攝氏13度。寒冷。偏東風 平均風速&lt;= 1級(每秒0公尺)。相對濕度77%。</value>\n              <measures>NA</measures>\n            </elementValue>\n          </time>\n          <time>\n            <startTime>2019-12-04T06:00:00+08:00</startTime>\n            <endTime>2019-12-04T09:00:00+08:00</endTime>\n            <elementValue>\n              <value>多雲。溫度攝氏13度。寒冷。偏東風 平均風速&lt;= 1級(每秒0公尺)。相對濕度76%。</value>\n              <measures>NA</measures>\n            </elementValue>\n          </time>\n          <time>\n            <startTime>2019-12-04T09:00:00+08:00</startTime>\n            <endTime>2019-12-04T12:00:00+08:00</endTime>\n            <elementValue>\n              <value>短暫雨。溫度攝氏16度。稍有寒意。偏東風 平均風速&lt;= 1級(每秒0公尺)。相對濕度76%。</value>\n              <measures>NA</measures>\n            </elementValue>\n          </time>\n        </weatherElement>\n      </location>\n    </locations>\n  </dataset>\n</cwbopendata>\n\n"
    }
   ],
   "source": [
    "import urllib.request\n",
    "import os\n",
    "import zipfile\n",
    "\n",
    "res = \"http://opendata.cwb.gov.tw/govdownload?dataid=F-D0047-093&authorizationkey=rdec-key-123-45678-011121314\"\n",
    "\n",
    "try:\n",
    "    os.makedirs( './Data', exist_ok=True )\n",
    "    urllib.request.urlretrieve(res, \"./data/example.zip\")\n",
    "    f = zipfile.ZipFile('./data/example.zip')\n",
    "    f.extractall('./data')\n",
    "\n",
    "    with open(\"./Data/64_72hr_CH.xml\",\"r\",encoding='UTF-8') as fh:\n",
    "        fi = fh.read()\n",
    "        print(\"File I/O 讀出的結果:\\n\")        \n",
    "        print(fi)\n",
    "\n",
    "except:\n",
    "    print('發生錯誤！')"
   ]
  },
  {
   "cell_type": "markdown",
   "metadata": {},
   "source": [
    "### 根據範例檔案的結果：\n",
    "\n",
    "1. 請問高雄市有多少地區有溫度資料？\n",
    "2. 請取出每一個地區所記錄的第一個時間點跟溫度\n",
    "3. 請取出第一個地區所記錄的每一個時間點跟溫度"
   ]
  },
  {
   "cell_type": "code",
   "execution_count": 22,
   "metadata": {},
   "outputs": [
    {
     "name": "stdout",
     "output_type": "stream",
     "text": "38\n"
    }
   ],
   "source": [
    "# 1. 請問高雄市有多少地區有溫度資料？\n",
    "\n",
    "# 解析檔案內容\n",
    "import xmltodict\n",
    "\n",
    "# 開啟 XML 檔案\n",
    "with open(\"./Data/64_72hr_CH.xml\",\"r\",encoding='UTF-8') as fd:\n",
    "    doc = xmltodict.parse(fd.read())\n",
    "    infos = doc['cwbopendata']['dataset']['locations']['location']\n",
    "    print(len(infos))"
   ]
  },
  {
   "cell_type": "code",
   "execution_count": 55,
   "metadata": {},
   "outputs": [
    {
     "name": "stdout",
     "output_type": "stream",
     "text": "鹽埕區: 2019-12-01T12:00:00+08:00, 27度\n鼓山區: 2019-12-01T12:00:00+08:00, 27度\n左營區: 2019-12-01T12:00:00+08:00, 26度\n楠梓區: 2019-12-01T12:00:00+08:00, 26度\n三民區: 2019-12-01T12:00:00+08:00, 26度\n新興區: 2019-12-01T12:00:00+08:00, 27度\n前金區: 2019-12-01T12:00:00+08:00, 27度\n苓雅區: 2019-12-01T12:00:00+08:00, 27度\n前鎮區: 2019-12-01T12:00:00+08:00, 27度\n旗津區: 2019-12-01T12:00:00+08:00, 26度\n小港區: 2019-12-01T12:00:00+08:00, 28度\n鳳山區: 2019-12-01T12:00:00+08:00, 27度\n林園區: 2019-12-01T12:00:00+08:00, 27度\n大寮區: 2019-12-01T12:00:00+08:00, 27度\n大樹區: 2019-12-01T12:00:00+08:00, 27度\n大社區: 2019-12-01T12:00:00+08:00, 26度\n仁武區: 2019-12-01T12:00:00+08:00, 26度\n鳥松區: 2019-12-01T12:00:00+08:00, 27度\n岡山區: 2019-12-01T12:00:00+08:00, 27度\n橋頭區: 2019-12-01T12:00:00+08:00, 27度\n燕巢區: 2019-12-01T12:00:00+08:00, 27度\n田寮區: 2019-12-01T12:00:00+08:00, 27度\n阿蓮區: 2019-12-01T12:00:00+08:00, 27度\n路竹區: 2019-12-01T12:00:00+08:00, 27度\n湖內區: 2019-12-01T12:00:00+08:00, 25度\n茄萣區: 2019-12-01T12:00:00+08:00, 25度\n永安區: 2019-12-01T12:00:00+08:00, 25度\n彌陀區: 2019-12-01T12:00:00+08:00, 25度\n梓官區: 2019-12-01T12:00:00+08:00, 26度\n旗山區: 2019-12-01T12:00:00+08:00, 27度\n美濃區: 2019-12-01T12:00:00+08:00, 28度\n六龜區: 2019-12-01T12:00:00+08:00, 27度\n甲仙區: 2019-12-01T12:00:00+08:00, 27度\n杉林區: 2019-12-01T12:00:00+08:00, 30度\n內門區: 2019-12-01T12:00:00+08:00, 28度\n茂林區: 2019-12-01T12:00:00+08:00, 27度\n桃源區: 2019-12-01T12:00:00+08:00, 25度\n那瑪夏區: 2019-12-01T12:00:00+08:00, 24度\n"
    }
   ],
   "source": [
    "# 2. 請取出每一個地區所記錄的第一個時間點跟溫度\n",
    "\n",
    "for info in infos:\n",
    "    area = info['locationName']\n",
    "    time = info['weatherElement'][0]['time'][0]['dataTime']\n",
    "    temperate = info['weatherElement'][0]['time'][0]['elementValue']['value']\n",
    "    data = area + ': ' + time + ', ' + temperate + '度'\n",
    "    print(data)\n",
    "\n",
    "\n"
   ]
  },
  {
   "cell_type": "code",
   "execution_count": 61,
   "metadata": {},
   "outputs": [
    {
     "name": "stdout",
     "output_type": "stream",
     "text": "鹽埕區: 2019-12-01T12:00:00+08:00, 27度\n鹽埕區: 2019-12-01T15:00:00+08:00, 27度\n鹽埕區: 2019-12-01T18:00:00+08:00, 25度\n鹽埕區: 2019-12-01T21:00:00+08:00, 22度\n鹽埕區: 2019-12-02T00:00:00+08:00, 20度\n鹽埕區: 2019-12-02T03:00:00+08:00, 19度\n鹽埕區: 2019-12-02T06:00:00+08:00, 18度\n鹽埕區: 2019-12-02T09:00:00+08:00, 20度\n鹽埕區: 2019-12-02T12:00:00+08:00, 25度\n鹽埕區: 2019-12-02T15:00:00+08:00, 25度\n鹽埕區: 2019-12-02T18:00:00+08:00, 23度\n鹽埕區: 2019-12-02T21:00:00+08:00, 20度\n鹽埕區: 2019-12-03T00:00:00+08:00, 18度\n鹽埕區: 2019-12-03T03:00:00+08:00, 17度\n鹽埕區: 2019-12-03T06:00:00+08:00, 16度\n鹽埕區: 2019-12-03T09:00:00+08:00, 18度\n鹽埕區: 2019-12-03T12:00:00+08:00, 22度\n鹽埕區: 2019-12-03T15:00:00+08:00, 23度\n鹽埕區: 2019-12-03T18:00:00+08:00, 22度\n鹽埕區: 2019-12-03T21:00:00+08:00, 20度\n鹽埕區: 2019-12-04T00:00:00+08:00, 19度\n鹽埕區: 2019-12-04T03:00:00+08:00, 18度\n鹽埕區: 2019-12-04T06:00:00+08:00, 18度\n鹽埕區: 2019-12-04T09:00:00+08:00, 19度\n"
    }
   ],
   "source": [
    "# 3. 請取出第一個地區所記錄的每一個時間點跟溫度\n",
    "\n",
    "for info in infos[0]['weatherElement'][0]['time']:\n",
    "    area = infos[0]['locationName']\n",
    "    time = info['dataTime']\n",
    "    temperate = info['elementValue']['value']\n",
    "\n",
    "    data = area + ': ' + time + ', ' + temperate + '度'\n",
    "\n",
    "    print(data)\n"
   ]
  }
 ],
 "metadata": {
  "kernelspec": {
   "display_name": "Python 3",
   "language": "python",
   "name": "python3"
  },
  "language_info": {
   "codemirror_mode": {
    "name": "ipython",
    "version": 3
   },
   "file_extension": ".py",
   "mimetype": "text/x-python",
   "name": "python",
   "nbconvert_exporter": "python",
   "pygments_lexer": "ipython3",
   "version": "3.7.4"
  }
 },
 "nbformat": 4,
 "nbformat_minor": 2
}