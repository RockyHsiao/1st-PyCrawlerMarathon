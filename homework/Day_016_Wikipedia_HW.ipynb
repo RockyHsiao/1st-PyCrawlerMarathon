{
 "cells": [
  {
   "cell_type": "markdown",
   "metadata": {},
   "source": [
    "# Wikipedia爬蟲練習\n",
    "## 範例：練習是從Wikipedia中爬取文章。先定義一個搜尋的關鍵字，擷取該關鍵字詞的文章。"
   ]
  },
  {
   "cell_type": "code",
   "execution_count": 311,
   "metadata": {},
   "outputs": [],
   "source": [
    "import requests\n",
    "import re\n",
    "from bs4 import BeautifulSoup\n",
    "import os"
   ]
  },
  {
   "cell_type": "markdown",
   "metadata": {},
   "source": [
    "### 先定義一個我們想搜尋的字詞，並將它轉換成UTF-8編碼後的URL"
   ]
  },
  {
   "cell_type": "code",
   "execution_count": 312,
   "metadata": {},
   "outputs": [
    {
     "name": "stdout",
     "output_type": "stream",
     "text": "e投睿: E%E6%8A%95%E7%9D%BF\n/wiki/E%E6%8A%95%E7%9D%BF\n"
    }
   ],
   "source": [
    "input_keyword = \"e投睿\"  # 這裡可以自己定義有興趣的關鍵字\n",
    "utf8_url = repr(input_keyword.encode('UTF-8')).upper()  # 編碼成UTF-8並轉成大寫字元\n",
    "utf8_url = utf8_url.replace(\"\\\\X\", \"%\")                 # 用 '%' 取代 '\\X' \n",
    "print(\"%s: %s\" % (input_keyword, utf8_url[2:-1:1]))     # 擷取中間的編碼結果\n",
    "\n",
    "# 組成Wiki關鍵字搜尋的網址格式\n",
    "root_keyword_link = '/wiki/' + utf8_url[2:-1:1]\n",
    "print(root_keyword_link)"
   ]
  },
  {
   "cell_type": "markdown",
   "metadata": {},
   "source": [
    "### 範例1：送出關鍵字請求後，爬取該關鍵字的文章內容"
   ]
  },
  {
   "cell_type": "code",
   "execution_count": 313,
   "metadata": {},
   "outputs": [
    {
     "name": "stdout",
     "output_type": "stream",
     "text": "e投睿（英語：eToro），是金融投資服務跟跟單交易服務（英語：Copy trading）的社交交易經紀公司，提供超過一千種的金融資產交易，分公司由歐洲賽普勒斯證券交易委員會（英語：Cyprus Securities and Exchange Commission）跟英國金融行為監管局（英語：Financial Conduct Authority）進行管制。\n\neToro是2007年成立的金融投資服務跟跟單交易服務（英語：Copy trading）的社交交易經紀公司，提供超過一千種的金融資產交易。eToro歐洲分公司在歐洲賽普勒斯註冊，公司編號200585[8]，受到歐洲賽普勒斯證券交易委員會（英語：Cyprus Securities and Exchange Commission）規管；英國分公司受到英國金融行為監管局（英語：Financial Conduct Authority）規管。[9][1]\n\n2006年在以色列特拉維夫市成立RetailFX，並且在2007年改名eToro進入金融市場。[4][2][10]2016年4月4日，全國廣播公司商業頻道將eToro列入「值得關注的10家最熱門金融科技初創企業」名單。[11]2018年3月21日，中國民生金融、思佰益、韓投夥伴、國際投資公司聯合投資Etoro總計1億美元。[12]同年，eToro創建區塊鏈子公司eToroX，由多倫·羅森布拉姆（英語：Doron Rosenblum）擔任常務董事。[4]5月22日，eToro以加密貨幣進入美國金融市場。[13]2019年3月25日，eToro以未公開的價格收購Firmo[14]；同年11月14日，etoro以未公開的價格收購應用程式Delta。[4]\n\n"
    }
   ],
   "source": [
    "# 模擬封包的標頭\n",
    "headers = {\n",
    "    'authority': 'zh.wikipedia.org',\n",
    "    'method': 'GET',\n",
    "    'path': '/wiki/' + root_keyword_link,\n",
    "    'scheme': 'https',\n",
    "    'accept': 'text/html,application/xhtml+xml,application/xml;q=0.9,image/webp,image/apng,*/*;q=0.8,application/signed-exchange;v=b3',\n",
    "    'accept-encoding': 'gzip, deflate, br',\n",
    "    'accept-language': 'zh-TW,zh;q=0.9,en-US;q=0.8,en;q=0.7,zh-CN;q=0.6',\n",
    "    'cookie': 'GeoIP=TW:TPE:Taipei:25.05:121.53:v4; TBLkisOn=0; mwPhp7Seed=8b8; WMF-Last-Access-Global=04-Jun-2019; WMF-Last-Access=04-Jun-2019',\n",
    "    'dnt': '1',\n",
    "    #'if-modified-since': 'Tue, 04 Jun 2019 12:03:22 GMT',\n",
    "    'referer': 'https://zh.wikipedia.org/wiki/Wikipedia:%E9%A6%96%E9%A1%B5',\n",
    "    'upgrade-insecure-requests': '1',\n",
    "    'user-agent': 'Mozilla/5.0 (Windows NT 10.0; Win64; x64) AppleWebKit/537.36 (KHTML, like Gecko) Chrome/74.0.3729.169 Safari/537.36'\n",
    "}    \n",
    "\n",
    "url = 'https://zh.wikipedia.org' + root_keyword_link  # 組合關鍵字查詢URL\n",
    "resp = requests.get(url, headers=headers)\n",
    "resp.encoding = 'utf-8'\n",
    "\n",
    "html = BeautifulSoup(resp.text, \"lxml\")\n",
    "content = html.find(name='div', attrs={'id':'mw-content-text'}).find_all(name='p')\n",
    "\n",
    "#\n",
    "# 解析回傳資料，並萃取文章內容\n",
    "#\n",
    "for paragraph in content:\n",
    "    print(paragraph.get_text())\n"
   ]
  },
  {
   "cell_type": "markdown",
   "metadata": {},
   "source": [
    "### 範例2：從爬取的文章內容中，擷取出有外部連結的關鍵字。這些關鍵字在文章中是以藍色字體顯示，會連到外部的網頁，並解釋其內容。"
   ]
  },
  {
   "cell_type": "code",
   "execution_count": 314,
   "metadata": {},
   "outputs": [
    {
     "name": "stdout",
     "output_type": "stream",
     "text": "外部連結: [金融投資服務] /wiki/%E9%87%91%E8%9E%8D\n外部連結: [社交交易] /wiki/%E7%A4%BE%E4%BA%A4%E4%BA%A4%E6%98%93\n外部連結: [經紀公司] /wiki/%E7%B6%93%E7%B4%80%E5%85%AC%E5%8F%B8\n外部連結: [金融投資服務] /wiki/%E9%87%91%E8%9E%8D\n外部連結: [社交交易] /wiki/%E7%A4%BE%E4%BA%A4%E4%BA%A4%E6%98%93\n外部連結: [經紀公司] /wiki/%E7%B6%93%E7%B4%80%E5%85%AC%E5%8F%B8\n外部連結: [歐洲] /wiki/%E6%AD%90%E6%B4%B2\n外部連結: [賽普勒斯] /wiki/%E8%B3%BD%E6%99%AE%E5%8B%92%E6%96%AF\n外部連結: [以色列] /wiki/%E4%BB%A5%E8%89%B2%E5%88%97\n外部連結: [特拉維夫市] /wiki/%E7%89%B9%E6%8B%89%E7%BB%B4%E5%A4%AB\n外部連結: [金融市場] /wiki/%E9%87%91%E8%9E%8D%E5%B8%82%E5%A0%B4\n外部連結: [全國廣播公司商業頻道] /wiki/%E5%85%A8%E5%9B%BD%E5%B9%BF%E6%92%AD%E5%85%AC%E5%8F%B8%E5%95%86%E4%B8%9A%E9%A2%91%E9%81%93\n外部連結: [中國民生金融] /wiki/%E4%B8%AD%E5%9C%8B%E6%B0%91%E7%94%9F%E9%87%91%E8%9E%8D\n外部連結: [思佰益] /wiki/%E6%80%9D%E4%BD%B0%E7%9B%8A\n外部連結: [區塊鏈] /wiki/%E5%8C%BA%E5%9D%97%E9%93%BE\n外部連結: [常務董事] /wiki/%E5%B8%B8%E5%8A%A1%E8%91%A3%E4%BA%8B\n外部連結: [加密貨幣] /wiki/%E5%8A%A0%E5%AF%86%E8%B2%A8%E5%B9%A3\n外部連結: [美國] /wiki/%E7%BE%8E%E5%9C%8B\n外部連結: [金融市場] /wiki/%E9%87%91%E8%9E%8D%E5%B8%82%E5%A0%B4\n外部連結: [應用程式] /wiki/%E6%87%89%E7%94%A8%E7%A8%8B%E5%BC%8F\n"
    }
   ],
   "source": [
    "for ext_link in content:\n",
    "    a_tag = ext_link.find_all('a', href=re.compile(\"^(/wiki/)((?!;)\\S)*$\"))\n",
    "    if len(a_tag) > 0:\n",
    "        for link_string in a_tag:\n",
    "            a_link = link_string[\"href\"]       # 外部連結的網址\n",
    "            a_keyword = link_string.get_text()  # 外部連結的中文名稱\n",
    "            print(\"外部連結: [%s] %s\" % (a_keyword, a_link))"
   ]
  },
  {
   "cell_type": "markdown",
   "metadata": {},
   "source": [
    "## 作業：接下來定義一個爬蟲函數，這個函數的主要工作為：\n",
    "### (1) 爬取當前關鍵字的解釋，並存入檔案(因為文章內容太多會佔滿整個頁面，所以存程檔案，方便後續檢視)\n",
    "### (2) 萃取出當前關鍵字所引用的外部連結，當作新的查詢關鍵字\n",
    "### (3) 把第(2)擷取到的關鍵字當作新的關鍵字，回到第(1)步，爬取新的關鍵字解釋。"
   ]
  },
  {
   "cell_type": "code",
   "execution_count": 315,
   "metadata": {},
   "outputs": [],
   "source": [
    "def WikiArticle(key_word_link, key_word, recursive):\n",
    "    if (recursive <= max_recursive_depth):\n",
    "        print(\"遞迴層[%d] - %s (%s)\" % (recursive, key_word_link, key_word))\n",
    "        \n",
    "        # 模擬封包的標頭\n",
    "        headers = {\n",
    "            'authority': 'zh.wikipedia.org',\n",
    "            'method': 'GET',\n",
    "            'path': '/wiki/' + key_word_link,\n",
    "            'scheme': 'https',\n",
    "            'accept': 'text/html,application/xhtml+xml,application/xml;q=0.9,image/webp,image/apng,*/*;q=0.8,application/signed-exchange;v=b3',\n",
    "            'accept-encoding': 'gzip, deflate, br',\n",
    "            'accept-language': 'zh-TW,zh;q=0.9,en-US;q=0.8,en;q=0.7,zh-CN;q=0.6',\n",
    "            'cookie': 'GeoIP=TW:TPE:Taipei:25.05:121.53:v4; TBLkisOn=0; mwPhp7Seed=8b8; WMF-Last-Access-Global=04-Jun-2019; WMF-Last-Access=04-Jun-2019',\n",
    "            'dnt': '1',\n",
    "            #'if-modified-since': 'Tue, 04 Jun 2019 12:03:22 GMT',\n",
    "            'referer': 'https://zh.wikipedia.org/wiki/Wikipedia:%E9%A6%96%E9%A1%B5',\n",
    "            'upgrade-insecure-requests': '1',\n",
    "            'user-agent': 'Mozilla/5.0 (Windows NT 10.0; Win64; x64) AppleWebKit/537.36 (KHTML, like Gecko) Chrome/74.0.3729.169 Safari/537.36'\n",
    "        }    \n",
    "\n",
    "        url = 'https://zh.wikipedia.org' + key_word_link  # 組合關鍵字查詢URL\n",
    "        resp = requests.get(url, headers=headers)\n",
    "        resp.encoding = 'utf-8'\n",
    "\n",
    "        html = BeautifulSoup(resp.text, \"lxml\")\n",
    "        content = html.find(name='div', attrs={'id':'mw-content-text'}).find_all(name='p')\n",
    "\n",
    "        #\n",
    "        # Part 1: 請參考範例1，爬取當前關鍵字的文章內容。\n",
    "        #         因為內容太多，我們把它寫入檔案，並以關鍵字作為檔案名稱，以便稍後查閱內容。\n",
    "        #         請先建立一個名為\"WikiArticle\"的資料夾，爬取到的文章內容會放在這個資料夾底下。\n",
    "        #\n",
    "\n",
    "        path = \"./WikiArticle\"\n",
    "        if not os.path.isdir(path):\n",
    "            os.mkdir(path)\n",
    "\n",
    "        files = path+'/'+key_word+'.txt'\n",
    "\n",
    "        with open(files, \"w\", encoding=\"UTF-8\") as fh:\n",
    "            for paragraph in content:\n",
    "                fh.write(paragraph.get_text())\n",
    "\n",
    "        \n",
    "        #\n",
    "        # Part 2: 請參考範例2，萃取出本篇文章中所延伸引用的外部連結，並儲存在external_link_dict\n",
    "        #\n",
    "\n",
    "        external_link_dict = dict({})\n",
    "        for ext_link in content:\n",
    "            a_tag = ext_link.find_all('a', href=re.compile(\"^(/wiki/)((?!;)\\S)*$\"))\n",
    "            if len(a_tag) > 0:\n",
    "                for link_string in a_tag:\n",
    "                    a_link = link_string[\"href\"]       # 外部連結的網址\n",
    "                    a_keyword = link_string.get_text()  # 外部連結的中文名稱\n",
    "                    external_link_dict[a_link] = a_keyword \n",
    "\n",
    "        #\n",
    "        # Part 3: 將Part 2所收集的外部連結，當作新的關鍵字，繼續迭代深入爬蟲\n",
    "        #\n",
    "\n",
    "        if (len(external_link_dict) > 0):       \n",
    "            recursive = recursive + 1  # 遞迴深度加1\n",
    "            for k, v in external_link_dict.items():\n",
    "                WikiArticle(k, v, recursive)  # 再次呼叫同樣的函數，執行同樣的流程\n",
    "                \n"
   ]
  },
  {
   "cell_type": "markdown",
   "metadata": {},
   "source": [
    "### 執行前個步驟定義好的爬蟲主程式"
   ]
  },
  {
   "cell_type": "code",
   "execution_count": 316,
   "metadata": {},
   "outputs": [
    {
     "name": "stdout",
     "output_type": "stream",
     "text": "遞迴層[0] - /wiki/E%E6%8A%95%E7%9D%BF (e投睿)\n遞迴層[1] - /wiki/%E9%87%91%E8%9E%8D (金融投資服務)\n遞迴層[1] - /wiki/%E7%A4%BE%E4%BA%A4%E4%BA%A4%E6%98%93 (社交交易)\n遞迴層[1] - /wiki/%E7%B6%93%E7%B4%80%E5%85%AC%E5%8F%B8 (經紀公司)\n遞迴層[1] - /wiki/%E6%AD%90%E6%B4%B2 (歐洲)\n遞迴層[1] - /wiki/%E8%B3%BD%E6%99%AE%E5%8B%92%E6%96%AF (賽普勒斯)\n遞迴層[1] - /wiki/%E4%BB%A5%E8%89%B2%E5%88%97 (以色列)\n遞迴層[1] - /wiki/%E7%89%B9%E6%8B%89%E7%BB%B4%E5%A4%AB (特拉維夫市)\n遞迴層[1] - /wiki/%E9%87%91%E8%9E%8D%E5%B8%82%E5%A0%B4 (金融市場)\n遞迴層[1] - /wiki/%E5%85%A8%E5%9B%BD%E5%B9%BF%E6%92%AD%E5%85%AC%E5%8F%B8%E5%95%86%E4%B8%9A%E9%A2%91%E9%81%93 (全國廣播公司商業頻道)\n遞迴層[1] - /wiki/%E4%B8%AD%E5%9C%8B%E6%B0%91%E7%94%9F%E9%87%91%E8%9E%8D (中國民生金融)\n遞迴層[1] - /wiki/%E6%80%9D%E4%BD%B0%E7%9B%8A (思佰益)\n遞迴層[1] - /wiki/%E5%8C%BA%E5%9D%97%E9%93%BE (區塊鏈)\n遞迴層[1] - /wiki/%E5%B8%B8%E5%8A%A1%E8%91%A3%E4%BA%8B (常務董事)\n遞迴層[1] - /wiki/%E5%8A%A0%E5%AF%86%E8%B2%A8%E5%B9%A3 (加密貨幣)\n遞迴層[1] - /wiki/%E7%BE%8E%E5%9C%8B (美國)\n遞迴層[1] - /wiki/%E6%87%89%E7%94%A8%E7%A8%8B%E5%BC%8F (應用程式)\n"
    }
   ],
   "source": [
    "# 定義爬取的遞迴深度。深度不要訂太深，否則會爬很久。\n",
    "max_recursive_depth = 1\n",
    "\n",
    "WikiArticle(root_keyword_link, input_keyword, 0)\n"
   ]
  },
  {
   "cell_type": "code",
   "execution_count": null,
   "metadata": {},
   "outputs": [],
   "source": []
  }
 ],
 "metadata": {
  "kernelspec": {
   "display_name": "Python 3",
   "language": "python",
   "name": "python3"
  },
  "language_info": {
   "codemirror_mode": {
    "name": "ipython",
    "version": 3
   },
   "file_extension": ".py",
   "mimetype": "text/x-python",
   "name": "python",
   "nbconvert_exporter": "python",
   "pygments_lexer": "ipython3",
   "version": "3.7.4"
  }
 },
 "nbformat": 4,
 "nbformat_minor": 2
}