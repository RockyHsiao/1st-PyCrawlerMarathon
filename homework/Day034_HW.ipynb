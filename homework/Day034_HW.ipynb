{
 "cells": [
  {
   "cell_type": "markdown",
   "metadata": {
    "colab_type": "text",
    "id": "I8CoX4R7VoCd"
   },
   "source": [
    "# 反爬：代理伺服器/IP\n",
    "\n",
    "* 了解「IP 黑/白名單」的反爬蟲機制\n",
    "* 「IP 黑/白名單」反爬蟲的因應策略"
   ]
  },
  {
   "cell_type": "markdown",
   "metadata": {
    "colab_type": "text",
    "id": "n-3DZ_r5VoCe"
   },
   "source": [
    "## 作業目標\n",
    "\n",
    "* 目前程式中的 proxy_ips 是手動輸入的，請根據 https://free-proxy-list.net/ 寫一個可自動化抓取可用 Proxy 的 proxy_ips。\n",
    "\n",
    "\n"
   ]
  },
  {
   "cell_type": "code",
   "execution_count": 41,
   "metadata": {},
   "outputs": [],
   "source": [
    "import requests\n",
    "from bs4 import BeautifulSoup\n",
    "import random\n",
    "proxy_ips = []\n",
    "\n",
    "url = 'https://free-proxy-list.net/'  # Proxies 來源網址\n",
    "resp = requests.get(url)\n",
    "resp.encoding = 'utf-8'\n",
    "\n",
    "html = BeautifulSoup(resp.text, \"html5lib\")\n",
    "content = html.find(name='tbody').find_all(name='tr')\n",
    "# 抓取 Proxy IP 資料\n",
    "for data in content:\n",
    "    ip = data.find_all(name='td')[0].text\n",
    "    port = data.find_all(name='td')[1].text\n",
    "    https = data.find(name='td', attrs={'class':'hx'}).text\n",
    "    if(https == 'yes'):\n",
    "        address = ip+\":\"+port\n",
    "        proxy_ips.append(address)"
   ]
  },
  {
   "cell_type": "code",
   "execution_count": 42,
   "metadata": {},
   "outputs": [
    {
     "name": "stdout",
     "output_type": "stream",
     "text": "Use 202.162.211.46:30161\nFail\nUse 185.108.141.74:8080\nFail\nUse 181.198.97.241:30072\nFail\nUse 95.170.208.42:8080\nYour IP address: 95.170.208.42\nUse 185.108.141.74:8080\nFail\nUse 176.113.157.149:31195\nYour IP address: 176.113.157.149\nUse 118.174.232.92:45759\nYour IP address: 118.174.232.92\nUse 200.116.198.180:43407\nFail\nUse 89.42.133.58:8080\nYour IP address: 89.43.62.23\nUse 1.20.97.96:54205\nFail\n"
    }
   ],
   "source": [
    "for i in range(10):\n",
    "    ip = random.choice(proxy_ips)\n",
    "    print('Use', ip)\n",
    "    try:\n",
    "        resp = requests.get('http://ip.filefab.com/index.php',\n",
    "                        proxies={'http': ip, 'https': ip}, timeout=10)\n",
    "        soup = BeautifulSoup(resp.text, 'html5lib')\n",
    "        print(soup.find('h1', id='ipd').text.strip())\n",
    "    except:\n",
    "        print('Fail')"
   ]
  }
 ],
 "metadata": {
  "colab": {
   "name": "homework.ipynb",
   "provenance": []
  },
  "kernelspec": {
   "display_name": "Python 3",
   "language": "python",
   "name": "python3"
  },
  "language_info": {
   "codemirror_mode": {
    "name": "ipython",
    "version": 3
   },
   "file_extension": ".py",
   "mimetype": "text/x-python",
   "name": "python",
   "nbconvert_exporter": "python",
   "pygments_lexer": "ipython3",
   "version": "3.7.4-final"
  }
 },
 "nbformat": 4,
 "nbformat_minor": 1
}