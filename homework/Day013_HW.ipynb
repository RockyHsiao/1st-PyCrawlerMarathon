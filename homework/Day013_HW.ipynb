{
 "cells": [
  {
   "cell_type": "markdown",
   "metadata": {},
   "source": [
    "# PTT 網路爬蟲實作練習\n",
    "\n",
    "\n",
    "* 能夠利用 Request + BeatifulSour 撰寫爬蟲，並存放到合適的資料結構\n"
   ]
  },
  {
   "cell_type": "markdown",
   "metadata": {},
   "source": [
    "## 作業目標\n",
    "\n",
    "根據範例 ，完成以下問題：\n",
    "\n",
    "* ① 印出最新文章的「作者」「標題」「時間」\n",
    "* ② 印出第一頁所有文章的「作者」「標題」「時間」\n"
   ]
  },
  {
   "cell_type": "markdown",
   "metadata": {},
   "source": [
    "### ① 印出最新文章的「作者」「標題」「時間」"
   ]
  },
  {
   "cell_type": "code",
   "execution_count": 67,
   "metadata": {},
   "outputs": [
    {
     "name": "stdout",
     "output_type": "stream",
     "text": "標題: [BOX ] Cavaliers 108:125 Bucks 數據\n\n標題: [討論] 現在James Harden是不是無敵了\n作者: seabox (吃貨盒盒)\n時間: Sun Dec 15 11:52:14 2019\n\n標題: [公告] 板規v6.6\n\n標題: [公告] 樂透取消及未來不再開啟樂透\n作者: Vedan (味丹)\n時間: Mon Jun 24 15:08:02 2019\n\n標題: [公告] 版主上任相關事項 \n作者: qazwsx879345 (Rajon Rondo)\n時間: Fri Oct 25 10:44:03 2019\n\n標題: [情報] SEASON Schedule 賽程 December 19–20\n作者: JerroLi (銀色小刀)\n時間: Fri Nov 29 00:46:01 2019\n\n標題: [公告]是否禁止basketball top 5文章投票開始 \n作者: dragon803 (好想去露營啊~)\n時間: Sun Dec  8 23:55:00 2019\n\n"
    }
   ],
   "source": [
    "import requests\n",
    "from bs4 import BeautifulSoup\n",
    "\n",
    "url = 'https://www.ptt.cc/bbs/NBA/index.html'\n",
    "r = requests.get(url)\n",
    "\n",
    "soup = BeautifulSoup(r.text, \"html5lib\")\n",
    "\n",
    "for d in soup.find_all(class_=\"title\"):\n",
    "    print('標題:',d.text.replace('\\t', '').replace('\\n', ''))\n",
    "    try:\n",
    "        r = BeautifulSoup(requests.get('https://www.ptt.cc'+d.find('a')['href']).text, \"html5lib\")\n",
    "        message = r.find_all(class_='article-meta-value')\n",
    "        print('作者: ' + message[0].text)\n",
    "        print('時間: ' + message[3].text + '\\n')\n",
    "    except:\n",
    "        print()\n",
    "        continue"
   ]
  },
  {
   "cell_type": "markdown",
   "metadata": {},
   "source": [
    "### ② 印出第一頁所有文章的「作者」「標題」「時間」"
   ]
  },
  {
   "cell_type": "code",
   "execution_count": 68,
   "metadata": {},
   "outputs": [
    {
     "name": "stdout",
     "output_type": "stream",
     "text": "標題: [轉錄]Lyotard 對於太陽板討論串的結論\n作者: Price (Price)\n時間: Sun May 16 01:54:33 2004\n\n標題: [公告] 請停止一切關於本次活動的發言\n作者: Price (Price)\n時間: Mon May 24 00:43:00 2004\n\n標題: [轉錄]跟之前那篇比起來 我覺得這篇也應該轉過來\n作者: Frankaze (神采風華)\n時間: Tue Jun  8 01:16:45 2004\n\n標題: [轉錄]再轉一篇好文來\n作者: Frankaze (神采風華)\n時間: Tue Jun  8 09:02:23 2004\n\n標題: [轉錄][情報] 夏洛特山貓系列\n作者: Price (Price)\n時間: Thu Jun 10 00:39:35 2004\n\n標題: [轉錄]Re: [心得] 真是受不了糗爺....\n作者: Price (Price)\n時間: Thu Jun 10 00:51:35 2004\n\n標題: [轉錄]總冠軍賽NO.2觀後感\n作者: Price (Price)\n時間: Thu Jun 10 12:05:07 2004\n\n標題: [心得] Rasheed Wallace\n作者: AmuroNamie (原來太嗨真的會失眠^___^)\n時間: Fri Jun 11 15:06:09 2004\n\n標題: 掌控球賽的男人\n作者: toptree (  )\n時間: Sat Jun 12 07:13:04 2004\n\n標題: [閒聊] 說說2004季後賽名場面回顧\n作者: skchang (3EB板開板囉！)\n時間: Sat Jun 12 13:21:49 2004\n\n標題: [心得] 其實說穿了 就是活塞的防守太可怕了\n作者: shineup ()\n時間: Sat Jun 12 13:12:47 2004\n\n標題: Re: [閒聊] 說說2004季後賽名場面回顧\n作者: cOvi (喵~)\n時間: Sat Jun 12 16:43:07 2004\n\n標題: Re: [閒聊] 說說2004季後賽名場面回顧\n作者: ykshih (￼N￼Ns)\n時間: Sat Jun 12 17:26:37 2004\n\n標題: Re: [閒聊] 說說2004季後賽名場面回顧\n作者: Frankaze (神采風華)\n時間: Sat Jun 12 18:34:46 2004\n\n標題: [轉錄]Re: 總冠軍賽NO.3觀後感\n作者: Price (Price)\n時間: Mon Jun 14 02:18:52 2004\n\n標題: [轉錄]Re: 總冠軍賽NO.3觀後感\n作者: Frankaze (神采風華)\n時間: Mon Jun 14 02:34:33 2004\n\n標題: Re: [轉錄]Re: 總冠軍賽NO.3觀後感\n作者: star1 (第一次魔術表演不算成功)\n時間: Mon Jun 14 07:16:30 2004\n\n標題: Re: [轉錄]Re: 總冠軍賽NO.3觀後感\n作者: coldspring (笑笑)\n時間: Mon Jun 14 09:24:57 2004\n\n標題: Re: Kobe is frustrated...\n作者: airbear (地圖)\n時間: Mon Jun 14 12:56:14 2004\n\n標題: Re: [轉錄]Re: 總冠軍賽NO.3觀後感\n作者: pennykidd (andre)\n時間: Mon Jun 14 22:07:01 2004\n\n"
    }
   ],
   "source": [
    "url = 'https://www.ptt.cc/bbs/NBA/index1.html'\n",
    "r = requests.get(url)\n",
    "\n",
    "soup = BeautifulSoup(r.text, \"html5lib\")\n",
    "\n",
    "for d in soup.find_all(class_=\"title\"):\n",
    "    print('標題:',d.text.replace('\\t', '').replace('\\n', ''))\n",
    "    try:\n",
    "        r = BeautifulSoup(requests.get('https://www.ptt.cc'+d.find('a')['href']).text, \"html5lib\")\n",
    "        message = r.find_all(class_='article-meta-value')\n",
    "        print('作者: ' + message[0].text)\n",
    "        print('時間: ' + message[3].text + '\\n')\n",
    "    except:\n",
    "        print()\n",
    "        continue"
   ]
  },
  {
   "cell_type": "markdown",
   "metadata": {},
   "source": [
    "### ③ 試著爬爬看其他版的文章"
   ]
  },
  {
   "cell_type": "code",
   "execution_count": 77,
   "metadata": {},
   "outputs": [
    {
     "name": "stdout",
     "output_type": "stream",
     "text": "PPT 八卦板\n標題: [問卦] 這裡問英文有人會回嗎？\n作者: jgjisnew (挾天子以令豬吼)\n時間: Sun Dec 15 11:51:30 2019\n\n標題: Re: [新聞] 打高雄債務！柯文哲轟陳菊：不要用選舉\n作者: tml7415 (國民黨不倒 2020創奇蹟)\n時間: Sun Dec 15 11:52:34 2019\n\n標題: [問卦] 有沒有漳泉械鬥的八卦？\n作者: zxc445567 (飄飄)\n時間: Sun Dec 15 11:52:52 2019\n\n標題: (本文已被刪除) [Vladivostok]\n\n標題: Re: [問卦] 眼鏡發明以前眼鏡蛇叫什麼？\n作者: mcsam (美國隊長慶安)\n時間: Sun Dec 15 11:55:33 2019\n\n標題: [新聞] 罷韓升溫！ 「光復高雄」貼紙5度加印 10幾萬張索取一空\n作者: blueadam193 ()\n時間: Sun Dec 15 11:56:00 2019\n\n標題: Re: [問卦] 鬼島稍微有點知名度的品牌都是外省人創業\n作者: krousxchen (城府很深)\n時間: Sun Dec 15 11:56:06 2019\n\n標題: Re: [新聞] 封面照遭質疑盜圖 張善政辦公室：合法使\n作者: keyin (　　)\n時間: Sun Dec 15 11:56:52 2019\n\n標題: Re: [新聞] 全台平均8青年 1人沒頭路！20至24歲失業\n作者: het97306 (a i b t)\n時間: Sun Dec 15 12:01:07 2019\n\n標題: Re: [新聞] 打高雄債務！柯文哲轟陳菊：不要用選舉\n作者: bear701107 (熊)\n時間: Sun Dec 15 12:01:35 2019\n\n標題: Re: [問卦] ~(@[email protected])~ 膝蓋真的那麼容易壞掉嗎？\n作者: mother (老木)\n時間: Sun Dec 15 12:01:49 2019\n\n標題: Re: [問卦]  /|||\\ 倒閉是不是代表景氣越好\n作者: mother (老木)\n時間: Sun Dec 15 12:01:47 2019\n\n標題: Re: [問卦] 鬼島稍微有點知名度的品牌都是外省人創業\n作者: h2o1125 (123)\n時間: Sun Dec 15 12:02:46 2019\n\n標題: [問卦] 現在小學都沒有福利社了嗎？\n作者: wylscott (林 佳樹)\n時間: Sun Dec 15 12:06:44 2019\n\n標題: [問卦] 現在練高爾宣的歌還來的及嗎?\n作者: Nodens (大車駕訓班 榮譽教練)\n時間: Sun Dec 15 12:08:16 2019\n\n標題: [問卦] 為何省錢版永遠那麼熱門？？\n作者: lnnall (lnnall)\n時間: Sun Dec 15 12:08:17 2019\n\n標題: [問卦] 地特考試拿文官學院的包包算不算暗黑兵法\n作者: lovechen239 (夯姐姐－乳肥宅♥♥♥♥)\n時間: Sun Dec 15 12:09:45 2019\n\n標題: [新聞] 北市大龍市場開幕 攤商嘆日賺五百生意差\n作者: thouloveme (赫赫)\n時間: Sun Dec 15 12:09:53 2019\n\n標題: [問卦] 人類祖先都在幹什麼？\n作者: osalucard (墮落的月光)\n時間: Sun Dec 15 12:10:36 2019\n\n標題: Re: [新聞] 全台平均8青年 1人沒頭路！20至24歲失業\n作者: KSHLO (Wunderbar)\n時間: Sun Dec 15 12:12:03 2019\n\n標題: [公告] 八卦板板規(2019.08.21)\n作者: arsonlolita (蘿莉塔)\n時間: Wed Aug 21 08:33:39 2019\n\n標題: [協尋] 11/20高市大順一路548號順明街行車記錄\n作者: witty ( )\n時間: Sun Nov 24 21:28:01 2019\n\n標題: 協尋12/6台中市向上路往精科五路行車記錄器\n作者: Amybook (123)\n時間: Sun Dec  8 01:29:53 2019\n\n標題: [公告] 一劍無悔，十二月置底閒聊文\n作者: Bignana (天劍煙雨)\n時間: Mon Dec  2 23:13:15 2019\n\n標題: 協詢12/12 新北三重大智路與忠孝路口行車記錄器\n\n"
    }
   ],
   "source": [
    "url = 'https://www.ptt.cc/bbs/Gossiping/index.html'\n",
    "r = requests.get(url,cookies={'over18': '1'})\n",
    "\n",
    "soup = BeautifulSoup(r.text, \"html5lib\")\n",
    "print('PPT 八卦板:\\n')\n",
    "\n",
    "for d in soup.find_all(class_=\"title\"):\n",
    "    print('標題:',d.text.replace('\\t', '').replace('\\n', ''))\n",
    "    try:\n",
    "        r = BeautifulSoup(requests.get('https://www.ptt.cc'+d.find('a')['href'],cookies={'over18': '1'}).text, \"html5lib\")\n",
    "        message = r.find_all(class_='article-meta-value')\n",
    "        print('作者: ' + message[0].text)\n",
    "        print('時間: ' + message[3].text + '\\n')\n",
    "    except:\n",
    "        print()\n",
    "        continue"
   ]
  }
 ],
 "metadata": {
  "kernelspec": {
   "display_name": "Python 3",
   "language": "python",
   "name": "python3"
  },
  "language_info": {
   "codemirror_mode": {
    "name": "ipython",
    "version": 3
   },
   "file_extension": ".py",
   "mimetype": "text/x-python",
   "name": "python",
   "nbconvert_exporter": "python",
   "pygments_lexer": "ipython3",
   "version": "3.7.4"
  }
 },
 "nbformat": 4,
 "nbformat_minor": 2
}