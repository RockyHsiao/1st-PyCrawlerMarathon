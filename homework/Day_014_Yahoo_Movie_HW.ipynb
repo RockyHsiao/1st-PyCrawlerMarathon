{
 "cells": [
  {
   "cell_type": "markdown",
   "metadata": {},
   "source": [
    "# YAHOO電影爬蟲練習\n",
    "## 練習爬取電影放映資訊。必須逐步獲取電影的代號、放映地區、放映日期後，再送出查詢給伺服器。"
   ]
  },
  {
   "cell_type": "code",
   "execution_count": 50,
   "metadata": {},
   "outputs": [],
   "source": [
    "import requests\n",
    "import re\n",
    "import math\n",
    "from bs4 import BeautifulSoup"
   ]
  },
  {
   "cell_type": "markdown",
   "metadata": {},
   "source": [
    "### 先搜尋全部的電影代號(ID)資訊"
   ]
  },
  {
   "cell_type": "code",
   "execution_count": 243,
   "metadata": {},
   "outputs": [
    {
     "name": "stdout",
     "output_type": "stream",
     "text": "正在上映中總共:  78 部電影\n\n電影代號:10256   片名: 去年聖誕節\n電影代號:10264   片名: 呆萌特務\n電影代號:10279   片名: 抓狂博物館\n電影代號:10287   片名: 人間失格：太宰治與他的3個女人\n電影代號:10328   片名: 絕世情歌\n電影代號:10336   片名: 我的靈魂是愛做的\n電影代號:10339   片名: 女孩要革命\n電影代號:10340   片名: 花生醬獵鷹的願望\n電影代號:10352   片名: 一屍到底番外篇：好萊塢大作戰！\n電影代號:10364   片名: 特約經紀公司\n電影代號:10134   片名: 野蠻遊戲：全面晉級\n電影代號:10044   片名: 暴走曼哈頓\n電影代號:10224   片名: 布魯克林孤兒\n電影代號:10254   片名: 懸案密碼前傳：瓶中信\n電影代號:10282   片名: 寂寞診療室\n電影代號:10327   片名: 夕霧花園\n電影代號:10097   片名: 賽道狂人\n電影代號:10258   片名: 鋒迴路轉\n電影代號:10271   片名: BanGDream！FILMLIVE\n電影代號:10298   片名: 82年生的金智英\n電影代號:10358   片名: 麂皮：永不滿足\n電影代號: 9597   片名: 冰雪奇緣2\n電影代號:10226   片名: 為美好的世界獻上祝福！紅傳說\n電影代號:10260   片名: 神機有毛病\n電影代號:10281   片名: 萬萬沒想到\n電影代號:10296   片名: 大餓\n電影代號:10302   片名: HelloWorld\n電影代號:10098   片名: 安眠醫生\n電影代號:10130   片名: 決戰中途島\n電影代號:10290   片名: 重甲機神：神降臨\n電影代號:10301   片名: 山田孝之的痛苦與榮耀\n電影代號:10067   片名: 魔鬼終結者：黑暗宿命\n電影代號: 9992   片名: 阿達一族\n電影代號:10240   片名: 陽光普照\n電影代號:10292   片名: 紫羅蘭永恆花園外傳－永遠與自動手記人偶－\n電影代號:10284   片名: 狙擊獵殺：救援行動\n電影代號:10017   片名: 雙子殺手\n電影代號:10267   片名: 盲人律師\n電影代號:10262   片名: 黑魔女2\n電影代號:10171   片名: 弒婚遊戲\n電影代號:10176   片名: 屍樂園：髒比雙拼\n電影代號:10205   片名: 藍波：最後一滴血\n電影代號:10249   片名: 電影版壞傢伙們\n電影代號:10238   片名: 108悍將\n電影代號: 9949   片名: 小丑\n電影代號:10155   片名: 無間行動\n電影代號:10190   片名: 信用詐欺師JP\n電影代號:10200   片名: 校外打怪教學\n電影代號:10064   片名: 唐頓莊園\n電影代號:10109   片名: 返校\n電影代號:10227   片名: 星際救援\n電影代號: 9894   片名: 好小男孩\n電影代號:10091   片名: 天氣之子\n電影代號:10158   片名: 花椒之味\n電影代號:10199   片名: 舞孃騙很大\n電影代號:10042   片名: 牠第二章\n電影代號:10141   片名: 你願意嫁給我老公嗎？\n電影代號:10174   片名: 極限逃生\n電影代號: 9807   片名: 下半場\n電影代號:10082   片名: 全面攻佔3：天使救援\n電影代號:10119   片名: 普羅米亞\n電影代號: 9920   片名: 朵拉與失落的黃金城\n電影代號:10139   片名: 瑪雅蜜蜂大冒險：蜜糖危機\n電影代號: 9116   片名: 獅子王\n電影代號: 9924   片名: 玩具總動員4\n電影代號: 9405   片名: 毀滅者\n電影代號: 9134   片名: 庫爾斯克號：深海救援\n電影代號: 9394   片名: 活個精彩\n電影代號: 9538   片名: 苦兒流浪記\n電影代號: 9589   片名: 厄夜追緝令\n電影代號: 9578   片名: 限時好友\n電影代號: 9568   片名: 祝你忌日快樂\n電影代號: 8553   片名: 艾莉塔：戰鬥天使\n電影代號: 8350   片名: 馴龍高手3\n電影代號: 9150   片名: 幸福綠皮書\n電影代號: 6906   片名: 貝士浮生錄\n電影代號: 4887   片名: 一首搖滾上月球\n電影代號: 3026   片名: 錢不夠用2\n"
    }
   ],
   "source": [
    "# 查看目前上映那些電影，並擷取出其ID資訊\n",
    "url = 'https://movies.yahoo.com.tw/movie_intheaters.html'\n",
    "resp = requests.get(url)\n",
    "resp.encoding = 'utf-8'\n",
    "\n",
    "soup = BeautifulSoup(resp.text, 'lxml')\n",
    "\n",
    "# 尋找正在上映中的全部電影筆數，其所在的tag\n",
    "html = soup.find(\"div\", attrs={'class':'release_box'})  \n",
    "total = re.findall(r'\\d+', html.p.string) \n",
    "print(\"正在上映中總共: \", total[0],'部電影\\n')\n",
    "\n",
    "# 總頁數\n",
    "max_page = math.ceil(int(total[0]) / 10)\n",
    "\n",
    "# 接下來要爬取每一頁的電影介紹\n",
    "# 先點選網頁最底部的下一頁，觀察其網址變化。然後我們把頁數當作變數傳入，用迴圈爬取。\n",
    "\n",
    "for page_number in range(1, max_page+1, 1):\n",
    "    url = 'https://movies.yahoo.com.tw/movie_intheaters.html?page='+ str(page_number)\n",
    "    resp = requests.get(url)\n",
    "    resp.encoding = 'utf-8'\n",
    "    soup = BeautifulSoup(resp.text, 'lxml')\n",
    "\n",
    "    for d in soup.find_all(class_=\"release_movie_name\"):\n",
    "        movieInfo = re.findall(r'\\d+',d.find('a')['href'])\n",
    "        print('電影代號:%5d' % int(movieInfo[-1]),'  片名: %s' % d.find('a').text.replace(' ', '').replace('\\n', ''))\n",
    "\n",
    "\n"
   ]
  },
  {
   "cell_type": "markdown",
   "metadata": {},
   "source": [
    "### 指定你有興趣的電影其ID，然後查詢其放映地區資訊。"
   ]
  },
  {
   "cell_type": "code",
   "execution_count": 277,
   "metadata": {},
   "outputs": [],
   "source": [
    "# 參考前一個步驟中擷取到的ID資訊，並指定ID\n",
    "movie_id = 10264"
   ]
  },
  {
   "cell_type": "code",
   "execution_count": 278,
   "metadata": {},
   "outputs": [
    {
     "name": "stdout",
     "output_type": "stream",
     "text": "放映地區: 台北市, 代號(area_id): 28\n放映地區: 新北市, 代號(area_id): 8\n放映地區: 桃園, 代號(area_id): 16\n放映地區: 新竹, 代號(area_id): 20\n放映地區: 台中, 代號(area_id): 2\n放映地區: 台南, 代號(area_id): 10\n放映地區: 高雄, 代號(area_id): 17\n放映地區: 金門, 代號(area_id): 24\n放映地區: 澎湖, 代號(area_id): 23\n"
    }
   ],
   "source": [
    "url = 'https://movies.yahoo.com.tw/api/v1/areas_by_movie_theater'\n",
    "payload = {'movie_id':str(movie_id)}\n",
    "\n",
    "# 模擬一個header\n",
    "headers = {\n",
    "    'authority': 'movies.yahoo.com.tw',\n",
    "    'method': 'GET',\n",
    "    'path': '/api/v1/areas_by_movie_theater?movie_id=' + str(movie_id),\n",
    "    'scheme': 'https',\n",
    "    'accept': 'application/json, text/javascript, */*; q=0.01',\n",
    "    'accept-encoding': 'gzip, deflate, br',\n",
    "    'accept-language': 'zh-TW,zh;q=0.9,en-US;q=0.8,en;q=0.7,zh-CN;q=0.6',\n",
    "    'cookie': 'rxx=9s3x2fws06.1g16irnc&v=1; _ga=GA1.3.2056742944.1551651301; GUC=AQEBAQFczFpdm0IfmwSB&s=AQAAACoo4N5D&g=XMsVBw; BX=4hkdk1decm57t&b=3&s=mr; _ga=GA1.4.2056742944.1551651301; nexagesuid=82843256dd234e8e91aa73f2062f8218; browsed_movie=eyJpdiI6IlJXWWtiSWJaZlNGK2MxQnhscnVUYWc9PSIsInZhbHVlIjoiMXRhMmVHRXRIeUNjc1RBWDJzdGYwbnlIQURmWGsrcjJSMzhkbkcraDNJVUNIZEZsbzU3amlFcVZ1NzlmazJrTGpoMjVrbHk1YmpoRENXaHZTOUw1TmI2ZTZVWHdOejZQZm16RmVuMWlHTTJLaTZLVFZZVkFOMDlTd1wvSGltcytJIiwibWFjIjoiZWQ2ZjA4MmVjZmZlYjlmNjJmYmY2NGMyMDI0Njc0NWViYjVkOWE2NDg0N2RhODMxZjBjZDhiMmJhZTc2MDZhYiJ9; avi=eyJpdiI6Im1NeWFJRlVRWDR1endEcGRGUGJUbVE9PSIsInZhbHVlIjoickRpU3JuUytmcGl6cjF5OW0rNU9iZz09IiwibWFjIjoiY2VmY2NkNzZmM2NhNjY5YzlkOTcyNjE5OGEyMzU0NWYxOTdmMDRkMDY3OWNmMmZjOTMxYjc5MjI5N2Q5NGE5MiJ9; cmp=t=1559391030&j=0; _gid=GA1.4.779543841.1559391031; XSRF-TOKEN=eyJpdiI6IkhpS2hGcDRQaHlmWUJmaHdSS2Q2bHc9PSIsInZhbHVlIjoiOUVoNFk4OHI1UUZmUWRtYXhza0MyWjJSTlhlZ3RnT0VGeVJPN2JuczVRMGRFdWt2OUlsamVKeHRobFwvcHBGM0dhU3VyMXNGTHlsb2dVM2l0U1hpUGxBPT0iLCJtYWMiOiJkZWU4YzJhNjAxMTY3MzE4Y2ExNWIxYmE1ZjE1YWZlZTlhOTcyYjc4M2RlZGY4ZWNjZDYyMTA2NGYwZGViMzc2In0%3D; m_s=eyJpdiI6InpsZHZ2Tk1BZ0dxaHhETml1RjBnUXc9PSIsInZhbHVlIjoiSkNGeHUranRoXC85bDFiaDhySTJqNkJRcWdjWUxjeVRJSHVYZ1wvd2d4bWJZUTUrSHVDM0lUcW5KNHdETFZ4T1lieU81OUhzc1VoUXhZcWk0UDZSQXVFdz09IiwibWFjIjoiYmJkMDJkMDhlODIzMzcyMWY4M2NmYWNjNGVlOWRjMDIwZmVmNzAyMjE3Yzg3ZGY3ODBkZWEzZTI4MTI5ZWNmOSJ9; _gat=1; nexagesd=10',\n",
    "    'dnt': '1',\n",
    "    'mv-authorization': '21835b082e15b91a69b3851eec7b31b82ce82afb',\n",
    "    'referer': 'https://movies.yahoo.com.tw/',\n",
    "    'user-agent': 'Mozilla/5.0 (Windows NT 10.0; Win64; x64) AppleWebKit/537.36 (KHTML, like Gecko) Chrome/74.0.3729.169 Safari/537.36',\n",
    "    'x-requested-with': 'XMLHttpRequest',\n",
    "}\n",
    "    \n",
    "resp = requests.get(url, params=payload, headers=headers)\n",
    "#print(resp.json())  # 若有需要，列印出json原始碼\n",
    "\n",
    "# 這裡回傳的格式是JSON格式的資料，要解析JSON擷取資料\n",
    "for p in resp.json():\n",
    "    print('放映地區: {0}, 代號(area_id): {1}'.format(p['title'], p['area_id']))"
   ]
  },
  {
   "cell_type": "markdown",
   "metadata": {},
   "source": [
    "### 指定你想要觀看的放映地區，查詢有上映電影的場次日期"
   ]
  },
  {
   "cell_type": "code",
   "execution_count": 279,
   "metadata": {},
   "outputs": [],
   "source": [
    "# 指定放映地區\n",
    "area_id = 28"
   ]
  },
  {
   "cell_type": "code",
   "execution_count": 280,
   "metadata": {},
   "outputs": [
    {
     "name": "stdout",
     "output_type": "stream",
     "text": "十二月 15\n十二月 16\n十二月 17\n十二月 18\n十二月 19\n"
    }
   ],
   "source": [
    "# 向網站發送請求\n",
    "url = 'https://movies.yahoo.com.tw/movietime_result.html'\n",
    "payload = {'movie_id':str(movie_id), 'area_id':str(area_id)}\n",
    "resp = requests.get(url, params=payload)\n",
    "resp.encoding = 'utf-8'\n",
    "\n",
    "soup = BeautifulSoup(resp.text, 'lxml')\n",
    "movie_date = soup.find_all(\"label\", attrs={'for':re.compile(\"date_[\\d]\")})\n",
    "\n",
    "# 列印播放日期\n",
    "for date in movie_date:\n",
    "    print(\"%s %s\" % (date.p.string, date.h3.string))"
   ]
  },
  {
   "cell_type": "markdown",
   "metadata": {},
   "source": [
    "### 最後指定觀看的日期，查詢並列印出放映的電影院、放映類型(數位、3D、IMAX 3D...)、放映時間等資訊。"
   ]
  },
  {
   "cell_type": "code",
   "execution_count": 284,
   "metadata": {},
   "outputs": [],
   "source": [
    "# 選定要觀看的日期\n",
    "date = \"2019-12-16\""
   ]
  },
  {
   "cell_type": "code",
   "execution_count": 364,
   "metadata": {},
   "outputs": [],
   "source": [
    "# 向網站發送請求，獲取上映的電影院及時間資訊\n",
    "url = \"https://movies.yahoo.com.tw/ajax/pc/get_schedule_by_movie\"\n",
    "payload = {'movie_id':str(movie_id),\n",
    "           'date':date,\n",
    "           'area_id':str(area_id),\n",
    "           'theater_id':'',\n",
    "           'datetime':'',\n",
    "           'movie_type_id':''}\n",
    "\n",
    "resp = requests.get(url, params=payload)\n",
    "#print(resp.json()['view'])  # 若有需要，列印出json原始碼\n",
    "\n",
    "soup = BeautifulSoup(resp.json()['view'], 'lxml')\n",
    "html = soup.find_all(\"ul\", attrs={'data-theater_name':re.compile(\".*\")})"
   ]
  },
  {
   "cell_type": "code",
   "execution_count": 365,
   "metadata": {},
   "outputs": [
    {
     "name": "stdout",
     "output_type": "stream",
     "text": "放映電影院: 台北信義威秀影城\n放映類型: 數位 \n放映時間:\n2019-12-16 11:50\n2019-12-16 17:30\n\n放映電影院: 喜樂時代影城南港店\n放映類型: 數位 中文 \n放映時間:\n2019-12-16 10:20\n2019-12-16 13:50\n2019-12-16 15:35\n2019-12-16 17:20\n\n"
    }
   ],
   "source": [
    "for data in html:\n",
    "  print('放映電影院:',data.a.text)\n",
    "  movietypeInfo = data.find(\"li\", attrs={'class':'taps'}).find_all('span')\n",
    "  movie_type = ''\n",
    "\n",
    "  for singleType in movietypeInfo:\n",
    "    movie_type += singleType.text + ' '\n",
    "\n",
    "  print('放映類型:', movie_type)\n",
    "\n",
    "  movieTimeInfo = data.find(\"div\", attrs={'class':'input_picker jq_input_picker'}).find_all('label')\n",
    "  movie_time = ''\n",
    "\n",
    "  for singleTime in movieTimeInfo:\n",
    "    movie_time += date +' '+ singleTime.text + '\\n'\n",
    "\n",
    "  print('放映時間:\\n'+movie_time)\n"
   ]
  }
 ],
 "metadata": {
  "kernelspec": {
   "display_name": "Python 3",
   "language": "python",
   "name": "python3"
  },
  "language_info": {
   "codemirror_mode": {
    "name": "ipython",
    "version": 3
   },
   "file_extension": ".py",
   "mimetype": "text/x-python",
   "name": "python",
   "nbconvert_exporter": "python",
   "pygments_lexer": "ipython3",
   "version": "3.7.4"
  }
 },
 "nbformat": 4,
 "nbformat_minor": 2
}