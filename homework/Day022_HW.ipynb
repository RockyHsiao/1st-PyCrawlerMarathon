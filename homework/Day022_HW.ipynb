{
 "cells": [
  {
   "cell_type": "markdown",
   "metadata": {},
   "source": [
    "# 空氣污染監測網 網路爬蟲實作練習\n",
    "\n",
    "\n",
    "* 能夠利用 selenium + BeautifulSoup 撰寫爬蟲，並存放到合適的資料結構\n"
   ]
  },
  {
   "cell_type": "markdown",
   "metadata": {},
   "source": [
    "## 作業目標\n",
    "\n",
    "根據範例 ，完成以下問題：\n",
    "\n",
    "* ① 取出 台北市士林區 2018/01 – 2018/08 的 SO2 資料\n",
    "* ② 取出 台北市士林區 2018/01 – 2018/08 的 SO2、CO 資料\n",
    "\n",
    "\n",
    "\n"
   ]
  },
  {
   "cell_type": "markdown",
   "metadata": {},
   "source": [
    "### ① 取出 台北市士林區 2018/01 – 2018/08 的 SO2 資料"
   ]
  },
  {
   "cell_type": "code",
   "execution_count": 101,
   "metadata": {},
   "outputs": [],
   "source": [
    "# 打開瀏覽器\n",
    "\n",
    "from selenium import webdriver\n",
    "from selenium.webdriver.support.ui import Select\n",
    "from bs4 import BeautifulSoup\n",
    "\n",
    "browser = webdriver.Chrome(executable_path='C:\\\\Users\\\\Rocky\\\\Downloads\\\\chromedriver.exe')\n",
    "\n",
    "browser.get(\"http://taqm.epa.gov.tw/taqm/tw/MonthlyAverage.aspx\")"
   ]
  },
  {
   "cell_type": "markdown",
   "metadata": {},
   "source": [
    "### ② 取出 台北市士林區 2018/01 – 2018/08 的 SO2、CO 資料"
   ]
  },
  {
   "cell_type": "code",
   "execution_count": 102,
   "metadata": {},
   "outputs": [],
   "source": [
    "# 模擬使用者操作行為，選擇/點擊\n",
    "\n",
    "selectSite = Select(browser.find_element_by_id(\"ctl05_ddlSite\"))\n",
    "selectSite.select_by_value('11')\n",
    "selectYear = Select(browser.find_element_by_id(\"ctl05_ddlYear\"))\n",
    "selectYear.select_by_value('2018')\n",
    "\n",
    "browser.find_element_by_id('ctl05_btnQuery').click()"
   ]
  },
  {
   "cell_type": "code",
   "execution_count": 105,
   "metadata": {},
   "outputs": [],
   "source": [
    "# 取得資料，丟到 BeautifulSoup 解析\n",
    "\n",
    "html_source = browser.page_source\n",
    "\n",
    "soup = BeautifulSoup(html_source,'html.parser')\n",
    "table = soup.find('table', class_='TABLE_G')\n",
    "\n",
    "d = {}\n",
    "vaild_type = 0  # 用來表示是否取此監測項目資料  0:表是否 1:表示是\n",
    "vaild_value = 0 # 用來表示是否取此監測日期的數值  0:表是否 1:表示是\n",
    "key = ''\n",
    "date = ''\n",
    "items = table.find_all('td')\n",
    "\n",
    "for item in items:\n",
    "    if 'style' in item.attrs:\n",
    "        key = item.text\n",
    "        if(key == 'SO2' or key == 'CO'):\n",
    "            d[key]={}\n",
    "            vaild_data = 1\n",
    "        else:\n",
    "            vaild_data = 0\n",
    "\n",
    "    elif ('class' not in item.attrs) and (vaild_data == 1):\n",
    "        if item.text.strip() != '':\n",
    "            if ('/'in item.text) and ('/09' not in item.text) and ('/10' not in item.text) and ('/11' not in item.text) and ('/12' not in item.text) :\n",
    "                date = item.text\n",
    "                vaild_value = 1\n",
    "            elif vaild_value == 1:\n",
    "                d[key][date] = item.text\n",
    "                vaild_value = 0\n",
    "# 關閉瀏覽器\n",
    "browser.quit()"
   ]
  },
  {
   "cell_type": "code",
   "execution_count": 107,
   "metadata": {},
   "outputs": [
    {
     "name": "stdout",
     "output_type": "stream",
     "text": "台北市士林區 2018/01 – 2018/08 的 SO2、CO 資料\n"
    },
    {
     "data": {
      "text/html": "<div>\n<style scoped>\n    .dataframe tbody tr th:only-of-type {\n        vertical-align: middle;\n    }\n\n    .dataframe tbody tr th {\n        vertical-align: top;\n    }\n\n    .dataframe thead th {\n        text-align: right;\n    }\n</style>\n<table border=\"1\" class=\"dataframe\">\n  <thead>\n    <tr style=\"text-align: right;\">\n      <th></th>\n      <th>SO2</th>\n      <th>CO</th>\n    </tr>\n  </thead>\n  <tbody>\n    <tr>\n      <td>2018/01</td>\n      <td>1.80</td>\n      <td>0.34</td>\n    </tr>\n    <tr>\n      <td>2018/02</td>\n      <td>1.90</td>\n      <td>0.44</td>\n    </tr>\n    <tr>\n      <td>2018/03</td>\n      <td>2.20</td>\n      <td>0.40</td>\n    </tr>\n    <tr>\n      <td>2018/04</td>\n      <td>2.30</td>\n      <td>0.38</td>\n    </tr>\n    <tr>\n      <td>2018/05</td>\n      <td>3.10</td>\n      <td>0.34</td>\n    </tr>\n    <tr>\n      <td>2018/06</td>\n      <td>2.70</td>\n      <td>0.29</td>\n    </tr>\n    <tr>\n      <td>2018/07</td>\n      <td>2.20</td>\n      <td>0.21</td>\n    </tr>\n    <tr>\n      <td>2018/08</td>\n      <td>2.40</td>\n      <td>0.30</td>\n    </tr>\n  </tbody>\n</table>\n</div>",
      "text/plain": "          SO2    CO\n2018/01  1.80  0.34\n2018/02  1.90  0.44\n2018/03  2.20  0.40\n2018/04  2.30  0.38\n2018/05  3.10  0.34\n2018/06  2.70  0.29\n2018/07  2.20  0.21\n2018/08  2.40  0.30"
     },
     "execution_count": 107,
     "metadata": {},
     "output_type": "execute_result"
    }
   ],
   "source": [
    "import pandas as pd\n",
    "print('台北市士林區 2018/01 – 2018/08 的 SO2、CO 資料')\n",
    "pd.DataFrame(d)"
   ]
  }
 ],
 "metadata": {
  "kernelspec": {
   "display_name": "Python 3",
   "language": "python",
   "name": "python3"
  },
  "language_info": {
   "codemirror_mode": {
    "name": "ipython",
    "version": 3
   },
   "file_extension": ".py",
   "mimetype": "text/x-python",
   "name": "python",
   "nbconvert_exporter": "python",
   "pygments_lexer": "ipython3",
   "version": "3.7.4"
  }
 },
 "nbformat": 4,
 "nbformat_minor": 2
}