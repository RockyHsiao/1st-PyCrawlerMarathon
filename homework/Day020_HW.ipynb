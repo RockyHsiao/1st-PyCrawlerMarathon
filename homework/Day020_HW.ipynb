{
 "cells": [
  {
   "cell_type": "markdown",
   "metadata": {},
   "source": [
    "# 動態網頁爬蟲 - API Request\n",
    "\n",
    "* 了解 API Request 用於動態網頁爬蟲的原理\n",
    "* 能夠使用 API Request 撰寫動態網頁爬蟲\n",
    "\n",
    "\n",
    "\n",
    "\n"
   ]
  },
  {
   "cell_type": "markdown",
   "metadata": {},
   "source": [
    "## 作業目標\n",
    "\n",
    "\n",
    "* 根據範例使用 API 取出 高雄市小港區 2019 年 空氣品質 資料，並用一個適合的資料結構儲存\n",
    "* Hint: 將所有資料存在一個變數當中\n"
   ]
  },
  {
   "cell_type": "code",
   "execution_count": 5,
   "metadata": {},
   "outputs": [
    {
     "data": {
      "text/plain": "200"
     },
     "execution_count": 5,
     "metadata": {},
     "output_type": "execute_result"
    }
   ],
   "source": [
    "import requests\n",
    "url = 'https://taqm.epa.gov.tw/taqm/tw/MonthlyAverage.aspx'\n",
    "payload = {\n",
    "    'ctl05$ddlSite': 58,\n",
    "    'ctl05$ddlYear': 2019,\n",
    "    'ctl05$btnQuery': '查詢',\n",
    "    'ScriptManager1': 'ctl05$UpdatePanel1|ctl05$btnQuery',\n",
    "    '__VIEWSTATE': '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',\n",
    "     '__VIEWSTATEGENERATOR': '0C858E1A',\n",
    "     '__EVENTVALIDATION': 'J+Nm8HiiDB704Yygl9vMKa4zpKLfSgwtQQJfBy+pi/sN5IPr8xcVY/xXr2unaiFjtONbzqfY3eOEuPqIYyCOnpONjY/vZlv+V9ZZB46frD6O6vdGeWCcR5zIZz+xRTJXGpEV3X5G5ZVBCnHRK4iEsdXC3Zx8pIe5bacNTr+QG7jXjTRHfDJTcv4tBtc7wesF1IVjNa5F80kc6XQF2gw7BHoluss9UjuGWNDKk6fhFI7lwc5RqVVaFICHsv/3q6Er9a53e4be39mWmF6kmzCYeP+HpUIgEw67LxH1U/RHcrV4BbBkcOUO8e8WSI23IubmTzdUAfYUnuGoARWPbnLkWuIyaW+AlPqeQOS+Ln45eucZU3qNSEQw3Cj6n5ZzyIjeZZmgR7Wl8pxVrf4KhGCcRbWiPztMYBBY7IIC9exsYd3L9hGwLuBbRbOIzRiOCi5s8p3t6hGKIll2R88V1cEvbr29j6UgkzLCOGUBztx3ZgHKxFgdlGLEjKzKGXaTASepCxMaq8UncHEb4MuogCGLnJT/T1z+e1zJDoRxO5/eMg8297nKTuH5xqyDRAFHFedvV3qXm+xnv/RTJjDUntxKnr0RVq+IcAk2OyoVIdCDx5l/DBQLzEbxuCxoxPqrpJQETwmMnG+UOSEfOpo3R7icBLyfjpf+ZQuCnWcs1+InhODXBO/7urcSDb+VmS3igUNjLF6gJ5rXvp5I4+wHD3Yjxp4DnM2gYlQUX2hkpczum9DbkfkYo0nCAY2ely5ntsnH8oKaRXjN9SSAjukcEJLg6tvmTTDFJqVtSNbkVfNF68/n4oWQgdzKhanV18WB7Kr4JLkheO0CRi8aRYZru+LT1+ezR7beN8t2Bi7mSyHYbORe5c8PZgk1GAyGNLfZh4x3CrbM8CNDKyU5ZvJ+FHFMcbjv6f495J2oE5Iuo9xVfVIHBUfBMu8m21cgkCgT8cxjeMZucA=='    \n",
    "}\n",
    "r = requests.post(url, data=payload)\n",
    "r.status_code"
   ]
  },
  {
   "cell_type": "code",
   "execution_count": 9,
   "metadata": {},
   "outputs": [
    {
     "name": "stdout",
     "output_type": "stream",
     "text": "<table align=\"Center\" border=\"1\" cellpadding=\"3\" cellspacing=\"0\" class=\"TABLE_G\" id=\"ctl05_gv\" rules=\"all\" style=\"border-color:Black;border-width:1px;border-style:None;border-collapse:collapse;\">\n<tr style=\"color:Black;font-weight:normal;\">\n<th scope=\"col\">監測項目</th><th scope=\"col\">單位</th><th scope=\"col\">監測日期</th><th scope=\"col\">監測值</th><th scope=\"col\">標註</th>\n</tr><tr style=\"color:Black;\">\n<td class=\"no-alt\" rowspan=\"11\" style=\"white-space:nowrap;\" valign=\"top\">SO2</td><td class=\"no-alt\" rowspan=\"11\" valign=\"top\">ppb</td><td>2019/01</td><td>4.10</td><td> </td>\n</tr><tr class=\"ALT\" style=\"color:Black;\">\n<td>2019/02</td><td>3.30</td><td> </td>\n</tr><tr style=\"color:Black;\">\n<td>2019/03</td><td>3.90</td><td> </td>\n</tr><tr class=\"ALT\" style=\"color:Black;\">\n<td>2019/04</td><td>3.40</td><td> </td>\n</tr><tr style=\"color:Black;\">\n<td>2019/05</td><td>3.30</td><td> </td>\n</tr><tr class=\"ALT\" style=\"color:Black;\">\n<td>2019/06</td><td>4.10</td><td> </td>\n</tr><tr style=\"color:Black;\">\n<td>2019/07</td><td>4</td><td> </td>\n</tr><tr class=\"ALT\" style=\"color:Black;\">\n<td>2019/08</td><td>4.60</td><td> </td>\n</tr><tr style=\"color:Black;\">\n<td>2019/09</td><td>3.50</td><td> </td>\n</tr><tr class=\"ALT\" style=\"color:Black;\">\n<td>2019/10</td><td>3.20</td><td> </td>\n</tr><tr style=\"color:Black;\">\n<td>2019/11</td><td>3.60</td><td> </td>\n</tr><tr class=\"ALT\" style=\"color:Black;\">\n<td class=\"no-alt\" rowspan=\"11\" style=\"white-space:nowrap;\" valign=\"top\">CO</td><td class=\"no-alt\" rowspan=\"11\" valign=\"top\">ppm</td><td>2019/01</td><td>0.67</td><td> </td>\n</tr><tr style=\"color:Black;\">\n<td>2019/02</td><td>0.48</td><td> </td>\n</tr><tr class=\"ALT\" style=\"color:Black;\">\n<td>2019/03</td><td>0.50</td><td> </td>\n</tr><tr style=\"color:Black;\">\n<td>2019/04</td><td>0.39</td><td> </td>\n</tr><tr class=\"ALT\" style=\"color:Black;\">\n<td>2019/05</td><td>0.38</td><td> </td>\n</tr><tr style=\"color:Black;\">\n<td>2019/06</td><td>0.24</td><td> </td>\n</tr><tr class=\"ALT\" style=\"color:Black;\">\n<td>2019/07</td><td>0.28</td><td> </td>\n</tr><tr style=\"color:Black;\">\n<td>2019/08</td><td>0.33</td><td> </td>\n</tr><tr class=\"ALT\" style=\"color:Black;\">\n<td>2019/09</td><td>0.32</td><td> </td>\n</tr><tr style=\"color:Black;\">\n<td>2019/10</td><td>0.36</td><td> </td>\n</tr><tr class=\"ALT\" style=\"color:Black;\">\n<td>2019/11</td><td>0.46</td><td> </td>\n</tr><tr style=\"color:Black;\">\n<td class=\"no-alt\" rowspan=\"11\" style=\"white-space:nowrap;\" valign=\"top\">O3</td><td class=\"no-alt\" rowspan=\"11\" valign=\"top\">ppb</td><td>2019/01</td><td>24.70</td><td> </td>\n</tr><tr class=\"ALT\" style=\"color:Black;\">\n<td>2019/02</td><td>29.40</td><td> </td>\n</tr><tr style=\"color:Black;\">\n<td>2019/03</td><td>29.20</td><td> </td>\n</tr><tr class=\"ALT\" style=\"color:Black;\">\n<td>2019/04</td><td>30.40</td><td> </td>\n</tr><tr style=\"color:Black;\">\n<td>2019/05</td><td>28.60</td><td> </td>\n</tr><tr class=\"ALT\" style=\"color:Black;\">\n<td>2019/06</td><td>16.30</td><td> </td>\n</tr><tr style=\"color:Black;\">\n<td>2019/07</td><td>15.50</td><td> </td>\n</tr><tr class=\"ALT\" style=\"color:Black;\">\n<td>2019/08</td><td>19.70</td><td> </td>\n</tr><tr style=\"color:Black;\">\n<td>2019/09</td><td>35.70</td><td> </td>\n</tr><tr class=\"ALT\" style=\"color:Black;\">\n<td>2019/10</td><td>44</td><td> </td>\n</tr><tr style=\"color:Black;\">\n<td>2019/11</td><td>34.80</td><td> </td>\n</tr><tr class=\"ALT\" style=\"color:Black;\">\n<td class=\"no-alt\" rowspan=\"11\" style=\"white-space:nowrap;\" valign=\"top\">PM10</td><td class=\"no-alt\" rowspan=\"11\" valign=\"top\">μg/m3</td><td>2019/01</td><td>78</td><td> </td>\n</tr><tr style=\"color:Black;\">\n<td>2019/02</td><td>57</td><td> </td>\n</tr><tr class=\"ALT\" style=\"color:Black;\">\n<td>2019/03</td><td>52</td><td> </td>\n</tr><tr style=\"color:Black;\">\n<td>2019/04</td><td>42</td><td> </td>\n</tr><tr class=\"ALT\" style=\"color:Black;\">\n<td>2019/05</td><td>35</td><td> </td>\n</tr><tr style=\"color:Black;\">\n<td>2019/06</td><td>20</td><td> </td>\n</tr><tr class=\"ALT\" style=\"color:Black;\">\n<td>2019/07</td><td>24</td><td> </td>\n</tr><tr style=\"color:Black;\">\n<td>2019/08</td><td>27</td><td> </td>\n</tr><tr class=\"ALT\" style=\"color:Black;\">\n<td>2019/09</td><td>35</td><td> </td>\n</tr><tr style=\"color:Black;\">\n<td>2019/10</td><td>50</td><td> </td>\n</tr><tr class=\"ALT\" style=\"color:Black;\">\n<td>2019/11</td><td>63</td><td> </td>\n</tr><tr style=\"color:Black;\">\n<td class=\"no-alt\" rowspan=\"11\" style=\"white-space:nowrap;\" valign=\"top\">NOx</td><td class=\"no-alt\" rowspan=\"11\" valign=\"top\">ppb</td><td>2019/01</td><td>38.01</td><td> </td>\n</tr><tr class=\"ALT\" style=\"color:Black;\">\n<td>2019/02</td><td>25.62</td><td> </td>\n</tr><tr style=\"color:Black;\">\n<td>2019/03</td><td>27.84</td><td> </td>\n</tr><tr class=\"ALT\" style=\"color:Black;\">\n<td>2019/04</td><td>21.83</td><td> </td>\n</tr><tr style=\"color:Black;\">\n<td>2019/05</td><td>22.55</td><td> </td>\n</tr><tr class=\"ALT\" style=\"color:Black;\">\n<td>2019/06</td><td>17.15</td><td> </td>\n</tr><tr style=\"color:Black;\">\n<td>2019/07</td><td>17.71</td><td> </td>\n</tr><tr class=\"ALT\" style=\"color:Black;\">\n<td>2019/08</td><td>19.66</td><td> </td>\n</tr><tr style=\"color:Black;\">\n<td>2019/09</td><td>18.66</td><td> </td>\n</tr><tr class=\"ALT\" style=\"color:Black;\">\n<td>2019/10</td><td>19.50</td><td> </td>\n</tr><tr style=\"color:Black;\">\n<td>2019/11</td><td>28.99</td><td> </td>\n</tr><tr class=\"ALT\" style=\"color:Black;\">\n<td class=\"no-alt\" rowspan=\"11\" style=\"white-space:nowrap;\" valign=\"top\">NO</td><td class=\"no-alt\" rowspan=\"11\" valign=\"top\">ppb</td><td>2019/01</td><td>7.95</td><td> </td>\n</tr><tr style=\"color:Black;\">\n<td>2019/02</td><td>4.76</td><td> </td>\n</tr><tr class=\"ALT\" style=\"color:Black;\">\n<td>2019/03</td><td>5.41</td><td> </td>\n</tr><tr style=\"color:Black;\">\n<td>2019/04</td><td>4.16</td><td> </td>\n</tr><tr class=\"ALT\" style=\"color:Black;\">\n<td>2019/05</td><td>4.58</td><td> </td>\n</tr><tr style=\"color:Black;\">\n<td>2019/06</td><td>5.08</td><td> </td>\n</tr><tr class=\"ALT\" style=\"color:Black;\">\n<td>2019/07</td><td>5.16</td><td> </td>\n</tr><tr style=\"color:Black;\">\n<td>2019/08</td><td>5.17</td><td> </td>\n</tr><tr class=\"ALT\" style=\"color:Black;\">\n<td>2019/09</td><td>3.63</td><td> </td>\n</tr><tr style=\"color:Black;\">\n<td>2019/10</td><td>3.50</td><td> </td>\n</tr><tr class=\"ALT\" style=\"color:Black;\">\n<td>2019/11</td><td>5.21</td><td> </td>\n</tr><tr style=\"color:Black;\">\n<td class=\"no-alt\" rowspan=\"11\" style=\"white-space:nowrap;\" valign=\"top\">NO2</td><td class=\"no-alt\" rowspan=\"11\" valign=\"top\">ppb</td><td>2019/01</td><td>30.06</td><td> </td>\n</tr><tr class=\"ALT\" style=\"color:Black;\">\n<td>2019/02</td><td>20.86</td><td> </td>\n</tr><tr style=\"color:Black;\">\n<td>2019/03</td><td>22.43</td><td> </td>\n</tr><tr class=\"ALT\" style=\"color:Black;\">\n<td>2019/04</td><td>17.68</td><td> </td>\n</tr><tr style=\"color:Black;\">\n<td>2019/05</td><td>17.98</td><td> </td>\n</tr><tr class=\"ALT\" style=\"color:Black;\">\n<td>2019/06</td><td>12.08</td><td> </td>\n</tr><tr style=\"color:Black;\">\n<td>2019/07</td><td>12.54</td><td> </td>\n</tr><tr class=\"ALT\" style=\"color:Black;\">\n<td>2019/08</td><td>14.49</td><td> </td>\n</tr><tr style=\"color:Black;\">\n<td>2019/09</td><td>15.03</td><td> </td>\n</tr><tr class=\"ALT\" style=\"color:Black;\">\n<td>2019/10</td><td>15.99</td><td> </td>\n</tr><tr style=\"color:Black;\">\n<td>2019/11</td><td>23.78</td><td> </td>\n</tr><tr class=\"ALT\" style=\"color:Black;\">\n<td class=\"no-alt\" rowspan=\"11\" style=\"white-space:nowrap;\" valign=\"top\">THC</td><td class=\"no-alt\" rowspan=\"11\" valign=\"top\">ppm</td><td>2019/01</td><td>2.27</td><td> </td>\n</tr><tr style=\"color:Black;\">\n<td>2019/02</td><td>2.11</td><td> </td>\n</tr><tr class=\"ALT\" style=\"color:Black;\">\n<td>2019/03</td><td>2.12</td><td> </td>\n</tr><tr style=\"color:Black;\">\n<td>2019/04</td><td>2.02</td><td> </td>\n</tr><tr class=\"ALT\" style=\"color:Black;\">\n<td>2019/05</td><td>2.02</td><td> </td>\n</tr><tr style=\"color:Black;\">\n<td>2019/06</td><td>1.92</td><td> </td>\n</tr><tr class=\"ALT\" style=\"color:Black;\">\n<td>2019/07</td><td>1.93</td><td> </td>\n</tr><tr style=\"color:Black;\">\n<td>2019/08</td><td>1.97</td><td> </td>\n</tr><tr class=\"ALT\" style=\"color:Black;\">\n<td>2019/09</td><td>1.98</td><td> </td>\n</tr><tr style=\"color:Black;\">\n<td>2019/10</td><td>2.05</td><td> </td>\n</tr><tr class=\"ALT\" style=\"color:Black;\">\n<td>2019/11</td><td>2.15</td><td> </td>\n</tr><tr style=\"color:Black;\">\n<td class=\"no-alt\" rowspan=\"11\" style=\"white-space:nowrap;\" valign=\"top\">NMHC</td><td class=\"no-alt\" rowspan=\"11\" valign=\"top\">ppm</td><td>2019/01</td><td>0.27</td><td> </td>\n</tr><tr class=\"ALT\" style=\"color:Black;\">\n<td>2019/02</td><td>0.17</td><td> </td>\n</tr><tr style=\"color:Black;\">\n<td>2019/03</td><td>0.18</td><td> </td>\n</tr><tr class=\"ALT\" style=\"color:Black;\">\n<td>2019/04</td><td>0.14</td><td> </td>\n</tr><tr style=\"color:Black;\">\n<td>2019/05</td><td>0.16</td><td> </td>\n</tr><tr class=\"ALT\" style=\"color:Black;\">\n<td>2019/06</td><td>0.13</td><td> </td>\n</tr><tr style=\"color:Black;\">\n<td>2019/07</td><td>0.14</td><td> </td>\n</tr><tr class=\"ALT\" style=\"color:Black;\">\n<td>2019/08</td><td>0.15</td><td> </td>\n</tr><tr style=\"color:Black;\">\n<td>2019/09</td><td>0.13</td><td> </td>\n</tr><tr class=\"ALT\" style=\"color:Black;\">\n<td>2019/10</td><td>0.13</td><td> </td>\n</tr><tr style=\"color:Black;\">\n<td>2019/11</td><td>0.21</td><td> </td>\n</tr><tr class=\"ALT\" style=\"color:Black;\">\n<td class=\"no-alt\" rowspan=\"11\" style=\"white-space:nowrap;\" valign=\"top\">CH4</td><td class=\"no-alt\" rowspan=\"11\" valign=\"top\">ppm</td><td>2019/01</td><td>2</td><td> </td>\n</tr><tr style=\"color:Black;\">\n<td>2019/02</td><td>1.94</td><td> </td>\n</tr><tr class=\"ALT\" style=\"color:Black;\">\n<td>2019/03</td><td>1.94</td><td> </td>\n</tr><tr style=\"color:Black;\">\n<td>2019/04</td><td>1.88</td><td> </td>\n</tr><tr class=\"ALT\" style=\"color:Black;\">\n<td>2019/05</td><td>1.86</td><td> </td>\n</tr><tr style=\"color:Black;\">\n<td>2019/06</td><td>1.79</td><td> </td>\n</tr><tr class=\"ALT\" style=\"color:Black;\">\n<td>2019/07</td><td>1.80</td><td> </td>\n</tr><tr style=\"color:Black;\">\n<td>2019/08</td><td>1.82</td><td> </td>\n</tr><tr class=\"ALT\" style=\"color:Black;\">\n<td>2019/09</td><td>1.86</td><td> </td>\n</tr><tr style=\"color:Black;\">\n<td>2019/10</td><td>1.92</td><td> </td>\n</tr><tr class=\"ALT\" style=\"color:Black;\">\n<td>2019/11</td><td>1.94</td><td> </td>\n</tr>\n</table>\n"
    }
   ],
   "source": [
    "from bs4 import BeautifulSoup\n",
    "\n",
    "soup = BeautifulSoup(r.text, 'html.parser')\n",
    "table = soup.find('table', class_='TABLE_G')\n",
    "print(table)"
   ]
  },
  {
   "cell_type": "code",
   "execution_count": 10,
   "metadata": {},
   "outputs": [],
   "source": [
    "d = {}\n",
    "key = ''\n",
    "date = ''\n",
    "items = table.find_all('td')\n",
    "\n",
    "for item in items:\n",
    "    if 'style' in item.attrs:\n",
    "        key = item.text\n",
    "        d[key]={}\n",
    "    elif 'class' not in item.attrs:\n",
    "        if item.text.strip() != '':\n",
    "            if '/'in item.text:\n",
    "                date = item.text\n",
    "            else:\n",
    "                d[key][date] = item.text"
   ]
  },
  {
   "cell_type": "code",
   "execution_count": 11,
   "metadata": {},
   "outputs": [
    {
     "data": {
      "text/html": "<div>\n<style scoped>\n    .dataframe tbody tr th:only-of-type {\n        vertical-align: middle;\n    }\n\n    .dataframe tbody tr th {\n        vertical-align: top;\n    }\n\n    .dataframe thead th {\n        text-align: right;\n    }\n</style>\n<table border=\"1\" class=\"dataframe\">\n  <thead>\n    <tr style=\"text-align: right;\">\n      <th></th>\n      <th>SO2</th>\n      <th>CO</th>\n      <th>O3</th>\n      <th>PM10</th>\n      <th>NOx</th>\n      <th>NO</th>\n      <th>NO2</th>\n      <th>THC</th>\n      <th>NMHC</th>\n      <th>CH4</th>\n    </tr>\n  </thead>\n  <tbody>\n    <tr>\n      <td>2019/01</td>\n      <td>4.10</td>\n      <td>0.67</td>\n      <td>24.70</td>\n      <td>78</td>\n      <td>38.01</td>\n      <td>7.95</td>\n      <td>30.06</td>\n      <td>2.27</td>\n      <td>0.27</td>\n      <td>2</td>\n    </tr>\n    <tr>\n      <td>2019/02</td>\n      <td>3.30</td>\n      <td>0.48</td>\n      <td>29.40</td>\n      <td>57</td>\n      <td>25.62</td>\n      <td>4.76</td>\n      <td>20.86</td>\n      <td>2.11</td>\n      <td>0.17</td>\n      <td>1.94</td>\n    </tr>\n    <tr>\n      <td>2019/03</td>\n      <td>3.90</td>\n      <td>0.50</td>\n      <td>29.20</td>\n      <td>52</td>\n      <td>27.84</td>\n      <td>5.41</td>\n      <td>22.43</td>\n      <td>2.12</td>\n      <td>0.18</td>\n      <td>1.94</td>\n    </tr>\n    <tr>\n      <td>2019/04</td>\n      <td>3.40</td>\n      <td>0.39</td>\n      <td>30.40</td>\n      <td>42</td>\n      <td>21.83</td>\n      <td>4.16</td>\n      <td>17.68</td>\n      <td>2.02</td>\n      <td>0.14</td>\n      <td>1.88</td>\n    </tr>\n    <tr>\n      <td>2019/05</td>\n      <td>3.30</td>\n      <td>0.38</td>\n      <td>28.60</td>\n      <td>35</td>\n      <td>22.55</td>\n      <td>4.58</td>\n      <td>17.98</td>\n      <td>2.02</td>\n      <td>0.16</td>\n      <td>1.86</td>\n    </tr>\n    <tr>\n      <td>2019/06</td>\n      <td>4.10</td>\n      <td>0.24</td>\n      <td>16.30</td>\n      <td>20</td>\n      <td>17.15</td>\n      <td>5.08</td>\n      <td>12.08</td>\n      <td>1.92</td>\n      <td>0.13</td>\n      <td>1.79</td>\n    </tr>\n    <tr>\n      <td>2019/07</td>\n      <td>4</td>\n      <td>0.28</td>\n      <td>15.50</td>\n      <td>24</td>\n      <td>17.71</td>\n      <td>5.16</td>\n      <td>12.54</td>\n      <td>1.93</td>\n      <td>0.14</td>\n      <td>1.80</td>\n    </tr>\n    <tr>\n      <td>2019/08</td>\n      <td>4.60</td>\n      <td>0.33</td>\n      <td>19.70</td>\n      <td>27</td>\n      <td>19.66</td>\n      <td>5.17</td>\n      <td>14.49</td>\n      <td>1.97</td>\n      <td>0.15</td>\n      <td>1.82</td>\n    </tr>\n    <tr>\n      <td>2019/09</td>\n      <td>3.50</td>\n      <td>0.32</td>\n      <td>35.70</td>\n      <td>35</td>\n      <td>18.66</td>\n      <td>3.63</td>\n      <td>15.03</td>\n      <td>1.98</td>\n      <td>0.13</td>\n      <td>1.86</td>\n    </tr>\n    <tr>\n      <td>2019/10</td>\n      <td>3.20</td>\n      <td>0.36</td>\n      <td>44</td>\n      <td>50</td>\n      <td>19.50</td>\n      <td>3.50</td>\n      <td>15.99</td>\n      <td>2.05</td>\n      <td>0.13</td>\n      <td>1.92</td>\n    </tr>\n    <tr>\n      <td>2019/11</td>\n      <td>3.60</td>\n      <td>0.46</td>\n      <td>34.80</td>\n      <td>63</td>\n      <td>28.99</td>\n      <td>5.21</td>\n      <td>23.78</td>\n      <td>2.15</td>\n      <td>0.21</td>\n      <td>1.94</td>\n    </tr>\n  </tbody>\n</table>\n</div>",
      "text/plain": "          SO2    CO     O3 PM10    NOx    NO    NO2   THC  NMHC   CH4\n2019/01  4.10  0.67  24.70   78  38.01  7.95  30.06  2.27  0.27     2\n2019/02  3.30  0.48  29.40   57  25.62  4.76  20.86  2.11  0.17  1.94\n2019/03  3.90  0.50  29.20   52  27.84  5.41  22.43  2.12  0.18  1.94\n2019/04  3.40  0.39  30.40   42  21.83  4.16  17.68  2.02  0.14  1.88\n2019/05  3.30  0.38  28.60   35  22.55  4.58  17.98  2.02  0.16  1.86\n2019/06  4.10  0.24  16.30   20  17.15  5.08  12.08  1.92  0.13  1.79\n2019/07     4  0.28  15.50   24  17.71  5.16  12.54  1.93  0.14  1.80\n2019/08  4.60  0.33  19.70   27  19.66  5.17  14.49  1.97  0.15  1.82\n2019/09  3.50  0.32  35.70   35  18.66  3.63  15.03  1.98  0.13  1.86\n2019/10  3.20  0.36     44   50  19.50  3.50  15.99  2.05  0.13  1.92\n2019/11  3.60  0.46  34.80   63  28.99  5.21  23.78  2.15  0.21  1.94"
     },
     "execution_count": 11,
     "metadata": {},
     "output_type": "execute_result"
    }
   ],
   "source": [
    "import pandas as pd\n",
    "pd.DataFrame(d)"
   ]
  },
  {
   "cell_type": "code",
   "execution_count": null,
   "metadata": {},
   "outputs": [],
   "source": []
  },
  {
   "cell_type": "code",
   "execution_count": null,
   "metadata": {},
   "outputs": [],
   "source": []
  }
 ],
 "metadata": {
  "kernelspec": {
   "display_name": "Python 3",
   "language": "python",
   "name": "python3"
  },
  "language_info": {
   "codemirror_mode": {
    "name": "ipython",
    "version": 3
   },
   "file_extension": ".py",
   "mimetype": "text/x-python",
   "name": "python",
   "nbconvert_exporter": "python",
   "pygments_lexer": "ipython3",
   "version": "3.7.4"
  }
 },
 "nbformat": 4,
 "nbformat_minor": 2
}